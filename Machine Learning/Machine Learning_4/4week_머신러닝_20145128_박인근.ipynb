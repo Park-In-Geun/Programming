{
 "cells": [
  {
   "cell_type": "markdown",
   "metadata": {},
   "source": [
    "## Numpy 라이브러리 실습"
   ]
  },
  {
   "cell_type": "code",
   "execution_count": 1,
   "metadata": {},
   "outputs": [],
   "source": [
    "import numpy as np #numpy 를 사용하기 위해 불러옴"
   ]
  },
  {
   "cell_type": "code",
   "execution_count": 2,
   "metadata": {},
   "outputs": [
    {
     "name": "stdout",
     "output_type": "stream",
     "text": [
      "arr type :  <class 'numpy.ndarray'>\n",
      "arr shape :  (2,)\n",
      "arr :  [1 2]\n",
      "arr data type :  int32\n"
     ]
    }
   ],
   "source": [
    "arr = np.array([1,2]) #numpy 타입의 1행 2열 배열 생성\n",
    "print(\"arr type : \",type(arr)) #arr 변수의 타입이 무엇인지 출력\n",
    "print(\"arr shape : \",arr.shape) #arr 변수가 몇 행 몇 열 인지 출력 \n",
    "print(\"arr : \",arr) # 배열 값 출력\n",
    "print(\"arr data type : \",arr.dtype) # array 배열의 데이터 타입이 무엇인지 출력"
   ]
  },
  {
   "cell_type": "code",
   "execution_count": 3,
   "metadata": {},
   "outputs": [
    {
     "name": "stdout",
     "output_type": "stream",
     "text": [
      "<class 'numpy.ndarray'>\n",
      "arr2 shape :  (3, 3)\n",
      "arr2 size :  9\n",
      "arr2 : \n",
      " [[1 2 3]\n",
      " [4 5 6]\n",
      " [7 8 9]]\n",
      "arr2 num of dimension : 2\n",
      "arr2 data type :  int32\n"
     ]
    }
   ],
   "source": [
    "arr2 = np.array([[1,2,3],[4,5,6],[7,8,9]]) # numpy 타입의 3행 3열 배열 생성\n",
    "print(type(arr2)) # arr2 변수의 타입이 무엇인지 출력\n",
    "print(\"arr2 shape : \",arr2.shape) #arr2 변수가 몇 행 몇 열 인지 출력\n",
    "print(\"arr2 size : \",arr2.size) #arr2 배열 변수의 크기를 출력\n",
    "print(\"arr2 : \\n\", arr2) #arr2 배열 값 출력\n",
    "print(\"arr2 num of dimension :\", arr2.ndim) #arr2 배열이 몇 차원인지 출력\n",
    "print(\"arr2 data type : \",arr2.dtype) #arr2 배열의 데이터 타입이 무엇인지 출력"
   ]
  },
  {
   "cell_type": "code",
   "execution_count": 5,
   "metadata": {},
   "outputs": [
    {
     "name": "stdout",
     "output_type": "stream",
     "text": [
      "[[0. 0. 0. 0.]\n",
      " [0. 0. 0. 0.]\n",
      " [0. 0. 0. 0.]]\n"
     ]
    }
   ],
   "source": [
    "print(np.zeros((3,4))) # 원소가 모두 0인 3x4 배열 생성"
   ]
  },
  {
   "cell_type": "code",
   "execution_count": 9,
   "metadata": {},
   "outputs": [
    {
     "name": "stdout",
     "output_type": "stream",
     "text": [
      "[[1. 1. 1.]\n",
      " [1. 1. 1.]]\n"
     ]
    }
   ],
   "source": [
    "print(np.ones((2,3))) # 원소가 모두 1인 2x3 배열 생성"
   ]
  },
  {
   "cell_type": "code",
   "execution_count": 10,
   "metadata": {},
   "outputs": [
    {
     "name": "stdout",
     "output_type": "stream",
     "text": [
      "[[3 3 3 3 3]\n",
      " [3 3 3 3 3]\n",
      " [3 3 3 3 3]\n",
      " [3 3 3 3 3]]\n"
     ]
    }
   ],
   "source": [
    "print(np.full((4,5),3)) # 원소가 모두 3인 4x5 배열 생성"
   ]
  },
  {
   "cell_type": "code",
   "execution_count": 11,
   "metadata": {},
   "outputs": [
    {
     "name": "stdout",
     "output_type": "stream",
     "text": [
      "[[0.18420596 0.06520604]\n",
      " [0.87871311 0.90918734]]\n"
     ]
    }
   ],
   "source": [
    "print(np.random.random((2,2))) # 원소가 모두 랜덤인 2x2 배열 생성"
   ]
  },
  {
   "cell_type": "code",
   "execution_count": 12,
   "metadata": {},
   "outputs": [
    {
     "name": "stdout",
     "output_type": "stream",
     "text": [
      "[0 1 2 3 4 5 6 7 8 9]\n",
      "[10 15 20 25]\n",
      "[0.  0.3 0.6 0.9 1.2 1.5 1.8]\n"
     ]
    }
   ],
   "source": [
    "print(np.arange(0,10)) # 0부터 10까지 간격을 1로 출력\n",
    "print(np.arange(10,30,5)) # 10부터 30까지 간격을 5로 출력\n",
    "print(np.arange(0, 2, 0.3)) # 0부터 2까지 간격을 0.3 으로 출력"
   ]
  },
  {
   "cell_type": "code",
   "execution_count": 13,
   "metadata": {},
   "outputs": [
    {
     "name": "stdout",
     "output_type": "stream",
     "text": [
      "[0.   0.25 0.5  0.75 1.   1.25 1.5  1.75 2.  ]\n"
     ]
    }
   ],
   "source": [
    "print(np.linspace(0,2,9)) # 0부터 2까지 9등분 해서 출력"
   ]
  },
  {
   "cell_type": "markdown",
   "metadata": {},
   "source": [
    "# arange 와 linspace의 차이점\n",
    "## aragne 는 균등한 간격으로 출력해주지만\n",
    "## linspace는 출력이 균등하지 못함"
   ]
  },
  {
   "cell_type": "code",
   "execution_count": 15,
   "metadata": {},
   "outputs": [
    {
     "name": "stdout",
     "output_type": "stream",
     "text": [
      "origin :  [ 0  1  2  3  4  5  6  7  8  9 10 11]\n",
      "reshaped : \n",
      " [[ 0  1  2]\n",
      " [ 3  4  5]\n",
      " [ 6  7  8]\n",
      " [ 9 10 11]]\n"
     ]
    }
   ],
   "source": [
    "print(\"origin : \",np.arange(0, 12)) # 0부터 11까지 간격을 1로 출력\n",
    "print(\"reshaped : \\n\",np.arange(0, 12).reshape(4,3))#  0부터 11까지 4x3 모양으로 재지정 해서 출력 "
   ]
  },
  {
   "cell_type": "code",
   "execution_count": 16,
   "metadata": {},
   "outputs": [
    {
     "name": "stdout",
     "output_type": "stream",
     "text": [
      "[[   0    1    2 ...   97   98   99]\n",
      " [ 100  101  102 ...  197  198  199]\n",
      " [ 200  201  202 ...  297  298  299]\n",
      " ...\n",
      " [9700 9701 9702 ... 9797 9798 9799]\n",
      " [9800 9801 9802 ... 9897 9898 9899]\n",
      " [9900 9901 9902 ... 9997 9998 9999]]\n"
     ]
    }
   ],
   "source": [
    "print(np.arange(10000).reshape(100,100)) # 0부터 9999 까지 간격을 1로 해서 100x100 모양으로 재지정 해서 출력"
   ]
  },
  {
   "cell_type": "code",
   "execution_count": 18,
   "metadata": {},
   "outputs": [
    {
     "name": "stdout",
     "output_type": "stream",
     "text": [
      "[20, 30, 40, 50, 5, 6, 7, 5]\n",
      "[20, 30, 40, 50, 20, 30, 40, 50]\n"
     ]
    }
   ],
   "source": [
    "list_a = [20,30,40,50] # 20,30,40,50 을 원소로 가진 list_a 리스트 생성\n",
    "list_b = [5,6,7,5] # 5,6,7,5 을 원소로 가진 list_b 리스트 생성\n",
    "\n",
    "print(list_a + list_b) # list_a 뒤에 list_b 를 붙여서 출력\n",
    "print(list_a * 2) # list_a를 2번 이어서 출력"
   ]
  },
  {
   "cell_type": "code",
   "execution_count": 21,
   "metadata": {},
   "outputs": [
    {
     "name": "stdout",
     "output_type": "stream",
     "text": [
      "[25 36 47 55]\n",
      "[15 24 33 45]\n",
      "[ 400  900 1600 2500]\n",
      "[100 180 280 250]\n",
      "[ 4.          5.          5.71428571 10.        ]\n"
     ]
    }
   ],
   "source": [
    "a = np.array([20,30,40,50])\n",
    "b = np.array([5,6,7,5])\n",
    "\n",
    "print(a + b) # a 배열의 각 원소들 에서 b 배열의 각 원소들 값을 더해서 출력\n",
    "print(a - b) # a 배열의 각 원소들 에서 b 배열의 각 원소들 값을 빼서 출력\n",
    "print(a ** 2) # a 배열의 각 원소들을 2제곱 해서 출력 \n",
    "print(a * b) # a 배열의 각 원소들 에서 b 배열의 각 원소들 값을 곱해서 출력\n",
    "print(a / b) # a 배열의 각 원소들 에서 b 배열의 각 원소들 값을 나눠서 출력"
   ]
  },
  {
   "cell_type": "markdown",
   "metadata": {},
   "source": [
    "# list 와 array의 차이점\n",
    "## list 는 단순히 뒤에 붙여주는 일만 해주고\n",
    "## array 는 각 원소들끼리 계산해줌\n",
    "## BroadCasting 이란?\n",
    "### 어떤 조건만 만족하면 모양이 다른 배열끼리의 연산도 가능하게 해주며 모양이 부족한 부분은 확장하여 연산을 수행할 수 있도록 한다."
   ]
  },
  {
   "cell_type": "code",
   "execution_count": 23,
   "metadata": {},
   "outputs": [
    {
     "name": "stdout",
     "output_type": "stream",
     "text": [
      "mul :  [[ 2  2]\n",
      " [ 1 12]]\n",
      "dot :  [[ 3  6]\n",
      " [ 5 14]]\n",
      "@ :  [[ 3  6]\n",
      " [ 5 14]]\n"
     ]
    }
   ],
   "source": [
    "A = np.array([[1,1],\n",
    "             [1,3]])\n",
    "\n",
    "B = np.array([[2,2],\n",
    "            [1,4]])\n",
    "\n",
    "print(\"mul : \",A * B) \n",
    "print(\"dot : \",np.dot(A,B))\n",
    "print(\"@ : \",A @ B) "
   ]
  },
  {
   "cell_type": "code",
   "execution_count": 26,
   "metadata": {},
   "outputs": [
    {
     "name": "stdout",
     "output_type": "stream",
     "text": [
      "axis=0 sum :  [12 15 18 21]\n",
      "axis=1 min :  [0 4 8]\n",
      "axis=0 max :  [ 8  9 10 11]\n"
     ]
    }
   ],
   "source": [
    "a = np.arange(12).reshape(3,4)\n",
    "\n",
    "print(\"axis=0 sum : \",a.sum(axis=0)) # 0일 경우 열 연산, 각 열의 행 값들의 합\n",
    "print(\"axis=1 min : \",a.min(axis=1)) # 1일 경우 행 연산, 각 행의 열 값들의 최소 값\n",
    "print(\"axis=0 max : \",a.max(axis=0)) # 0일 경우 열 연산, 각 열의 행 값들의 최대 값\n"
   ]
  },
  {
   "cell_type": "code",
   "execution_count": 28,
   "metadata": {},
   "outputs": [
    {
     "name": "stdout",
     "output_type": "stream",
     "text": [
      "b :  [8 4 2 7 1 2 3 4]\n",
      "index [2] :  2\n",
      "slice [2:5] :  [2 7 1]\n",
      "reverse :  [4 3 2 1 7 2 4 8]\n"
     ]
    }
   ],
   "source": [
    "b = np.array([8,4,2,7,1,2,3,4])\n",
    "print(\"b : \",b)\n",
    "\n",
    "print(\"index [2] : \",b[2]) # 배열의 3번 째 원소 출력\n",
    "print(\"slice [2:5] : \",b[2:5]) # 배열의 3,4,5 번째 원소 출력\n",
    "print(\"reverse : \",b[::-1]) # 배열의 원소를 거꾸로 출력"
   ]
  },
  {
   "cell_type": "markdown",
   "metadata": {},
   "source": [
    "## Pandas 라이브러리 실습"
   ]
  },
  {
   "cell_type": "code",
   "execution_count": 31,
   "metadata": {},
   "outputs": [
    {
     "name": "stdout",
     "output_type": "stream",
     "text": [
      "0    1.0\n",
      "1    2.0\n",
      "2    3.0\n",
      "3    NaN\n",
      "4    4.0\n",
      "5    5.0\n",
      "dtype: float64\n"
     ]
    }
   ],
   "source": [
    "# [value : index] 구조\n",
    "import numpy as np\n",
    "import pandas as pd #pandas 라이브러리 사용\n",
    "\n",
    "data = [1,2,3,np.nan,4,5] # np.nan = NaN\n",
    "s1 = pd.Series(data) \n",
    "#각 순서에 무슨 원소가 들어있는지 동시에 확인. 각 원소는 소수점까지 확인, 데이터 타입도 포함됌\n",
    "print(s1)"
   ]
  },
  {
   "cell_type": "code",
   "execution_count": 33,
   "metadata": {},
   "outputs": [
    {
     "name": "stdout",
     "output_type": "stream",
     "text": [
      "value :  [ 1.  2.  3. nan  4.  5.]\n",
      "index :  RangeIndex(start=0, stop=6, step=1)\n"
     ]
    }
   ],
   "source": [
    "print(\"value : \",s1.values) # s1의 각 원소들 출력\n",
    "print(\"index : \",s1.index) #s1의 인덱스가 몇부터 시작해서 몇에 끝나는지, 간격은 얼마인지 출력"
   ]
  },
  {
   "cell_type": "code",
   "execution_count": 34,
   "metadata": {},
   "outputs": [
    {
     "name": "stdout",
     "output_type": "stream",
     "text": [
      "one      2\n",
      "two      4\n",
      "three    5\n",
      "four     6\n",
      "dtype: int64\n"
     ]
    }
   ],
   "source": [
    "data = [2,4,5,6]\n",
    "index = ['one','two','three','four']\n",
    "\n",
    "s2 = pd.Series(data,index=index) # index 배열은 index배열로 사용\n",
    "print(s2)"
   ]
  },
  {
   "cell_type": "code",
   "execution_count": 35,
   "metadata": {},
   "outputs": [
    {
     "name": "stdout",
     "output_type": "stream",
     "text": [
      "one       2\n",
      "two      10\n",
      "three     5\n",
      "four      6\n",
      "dtype: int64\n"
     ]
    }
   ],
   "source": [
    "s2['two'] = 10 # 'two' 인덱스에 있는 원소를 10으로 변경\n",
    "print(s2)"
   ]
  },
  {
   "cell_type": "code",
   "execution_count": 36,
   "metadata": {},
   "outputs": [
    {
     "name": "stdout",
     "output_type": "stream",
     "text": [
      "first      2\n",
      "second    10\n",
      "third      5\n",
      "forth      6\n",
      "dtype: int64\n"
     ]
    }
   ],
   "source": [
    "s2.index = ['first','second','third','forth'] #s2 의 인덱스를 변경\n",
    "\n",
    "print(s2)"
   ]
  },
  {
   "cell_type": "code",
   "execution_count": 37,
   "metadata": {},
   "outputs": [
    {
     "name": "stdout",
     "output_type": "stream",
     "text": [
      "one      10000\n",
      "two      20000\n",
      "three    30000\n",
      "four     40000\n",
      "dtype: int64\n"
     ]
    }
   ],
   "source": [
    "dic = {'one' : 10000, 'two' : 20000, 'three' : 30000, 'four' : 40000} # 각 인덱스의 원소값을 지정\n",
    "s3 = pd.Series(dic) #인덱스와 값을 동시에 확인, 데이터 타입 확인\n",
    "print(s3)"
   ]
  },
  {
   "cell_type": "code",
   "execution_count": 38,
   "metadata": {},
   "outputs": [
    {
     "name": "stdout",
     "output_type": "stream",
     "text": [
      "    name      dates   flag  num    s\n",
      "0  jeong 2019-09-19   test    0  man\n",
      "1    kim 2019-09-20  train    1  man\n",
      "2    lee 2019-09-21   test    2  man\n"
     ]
    }
   ],
   "source": [
    "#pandas - DataFrame\n",
    "df = pd.DataFrame({ # 엑셀의 표 형식\n",
    "    'name' : ['jeong', 'kim', 'lee'], # 이름 구간\n",
    "    'dates' : pd.date_range('20190919',periods=3), # 날짜 구간으로 년월일 표시, 2019년 9월 19일부터 기간을 3일\n",
    "    'flag' : pd.Categorical(['test','train','test']), # 카테고리 구간, test,train,test 순\n",
    "    'num' : np.arange(3), # 번호 구간, 0부터 2까지\n",
    "    's' : 'man' # 모두 man 으로 표시\n",
    "})\n",
    "\n",
    "print(df)"
   ]
  },
  {
   "cell_type": "code",
   "execution_count": 39,
   "metadata": {},
   "outputs": [
    {
     "name": "stdout",
     "output_type": "stream",
     "text": [
      "name             object\n",
      "dates    datetime64[ns]\n",
      "flag           category\n",
      "num               int32\n",
      "s                object\n",
      "dtype: object\n"
     ]
    }
   ],
   "source": [
    "print(df.dtypes) # df와 각 원소들의 데이터 타입 출력"
   ]
  },
  {
   "cell_type": "code",
   "execution_count": 40,
   "metadata": {},
   "outputs": [
    {
     "name": "stdout",
     "output_type": "stream",
     "text": [
      "RangeIndex(start=0, stop=3, step=1)\n",
      "Index(['name', 'dates', 'flag', 'num', 's'], dtype='object')\n",
      "[['jeong' Timestamp('2019-09-19 00:00:00') 'test' 0 'man']\n",
      " ['kim' Timestamp('2019-09-20 00:00:00') 'train' 1 'man']\n",
      " ['lee' Timestamp('2019-09-21 00:00:00') 'test' 2 'man']]\n"
     ]
    }
   ],
   "source": [
    "print(df.index) # df 데이터프레임의 인덱스의 시작과 끝, 간격 출력\n",
    "print(df.columns) # df 데이터프레임의 각 인덱스가 무엇인지와 데이터 타입 출력\n",
    "print(df.values) # 각 인덱스들의 내용 값 출력"
   ]
  },
  {
   "cell_type": "code",
   "execution_count": 42,
   "metadata": {},
   "outputs": [],
   "source": [
    "np.random.seed(20190911)\n",
    "datas = np.floor(np.random.randn(12,5)*10) # 가우시안 분포를 통한 랜덤 배치\n",
    "dates = pd.date_range('20190911',periods=12) # 20190911 부터 기간은 12일\n",
    "columns = list('ABCDE') # ABCDE 순서로 리스트\n",
    "\n",
    "df = pd.DataFrame(datas,index=dates,columns=columns) # "
   ]
  },
  {
   "cell_type": "code",
   "execution_count": 43,
   "metadata": {},
   "outputs": [
    {
     "name": "stdout",
     "output_type": "stream",
     "text": [
      "               A     B     C     D     E\n",
      "2019-09-11   2.0  -9.0   2.0  19.0  12.0\n",
      "2019-09-12  -4.0  12.0  -9.0   8.0  15.0\n",
      "2019-09-13 -14.0   5.0  -2.0  16.0  -3.0\n",
      "2019-09-14 -13.0 -17.0  24.0  -8.0  -5.0\n",
      "2019-09-15 -21.0  -4.0 -13.0   1.0   6.0\n",
      "2019-09-16   5.0  -1.0  -5.0  -5.0  21.0\n",
      "2019-09-17   3.0  -6.0   2.0   1.0  -6.0\n",
      "2019-09-18  13.0   5.0 -10.0   8.0   6.0\n",
      "2019-09-19  19.0 -17.0  16.0  -3.0 -10.0\n",
      "2019-09-20  -8.0  11.0  26.0  -3.0  -2.0\n",
      "2019-09-21  -9.0  -3.0 -15.0  -6.0  -1.0\n",
      "2019-09-22   4.0  -7.0  -3.0 -16.0   8.0\n"
     ]
    }
   ],
   "source": [
    "print(df)"
   ]
  },
  {
   "cell_type": "code",
   "execution_count": 46,
   "metadata": {},
   "outputs": [
    {
     "data": {
      "text/html": [
       "<div>\n",
       "<style scoped>\n",
       "    .dataframe tbody tr th:only-of-type {\n",
       "        vertical-align: middle;\n",
       "    }\n",
       "\n",
       "    .dataframe tbody tr th {\n",
       "        vertical-align: top;\n",
       "    }\n",
       "\n",
       "    .dataframe thead th {\n",
       "        text-align: right;\n",
       "    }\n",
       "</style>\n",
       "<table border=\"1\" class=\"dataframe\">\n",
       "  <thead>\n",
       "    <tr style=\"text-align: right;\">\n",
       "      <th></th>\n",
       "      <th>A</th>\n",
       "      <th>B</th>\n",
       "      <th>C</th>\n",
       "      <th>D</th>\n",
       "      <th>E</th>\n",
       "    </tr>\n",
       "  </thead>\n",
       "  <tbody>\n",
       "    <tr>\n",
       "      <th>count</th>\n",
       "      <td>12.000000</td>\n",
       "      <td>12.000000</td>\n",
       "      <td>12.000000</td>\n",
       "      <td>12.000000</td>\n",
       "      <td>12.000000</td>\n",
       "    </tr>\n",
       "    <tr>\n",
       "      <th>mean</th>\n",
       "      <td>-1.916667</td>\n",
       "      <td>-2.583333</td>\n",
       "      <td>1.083333</td>\n",
       "      <td>1.000000</td>\n",
       "      <td>3.416667</td>\n",
       "    </tr>\n",
       "    <tr>\n",
       "      <th>std</th>\n",
       "      <td>11.704376</td>\n",
       "      <td>9.558036</td>\n",
       "      <td>13.865971</td>\n",
       "      <td>10.153369</td>\n",
       "      <td>9.443211</td>\n",
       "    </tr>\n",
       "    <tr>\n",
       "      <th>min</th>\n",
       "      <td>-21.000000</td>\n",
       "      <td>-17.000000</td>\n",
       "      <td>-15.000000</td>\n",
       "      <td>-16.000000</td>\n",
       "      <td>-10.000000</td>\n",
       "    </tr>\n",
       "    <tr>\n",
       "      <th>25%</th>\n",
       "      <td>-10.000000</td>\n",
       "      <td>-7.500000</td>\n",
       "      <td>-9.250000</td>\n",
       "      <td>-5.250000</td>\n",
       "      <td>-3.500000</td>\n",
       "    </tr>\n",
       "    <tr>\n",
       "      <th>50%</th>\n",
       "      <td>-1.000000</td>\n",
       "      <td>-3.500000</td>\n",
       "      <td>-2.500000</td>\n",
       "      <td>-1.000000</td>\n",
       "      <td>2.500000</td>\n",
       "    </tr>\n",
       "    <tr>\n",
       "      <th>75%</th>\n",
       "      <td>4.250000</td>\n",
       "      <td>5.000000</td>\n",
       "      <td>5.500000</td>\n",
       "      <td>8.000000</td>\n",
       "      <td>9.000000</td>\n",
       "    </tr>\n",
       "    <tr>\n",
       "      <th>max</th>\n",
       "      <td>19.000000</td>\n",
       "      <td>12.000000</td>\n",
       "      <td>26.000000</td>\n",
       "      <td>19.000000</td>\n",
       "      <td>21.000000</td>\n",
       "    </tr>\n",
       "  </tbody>\n",
       "</table>\n",
       "</div>"
      ],
      "text/plain": [
       "               A          B          C          D          E\n",
       "count  12.000000  12.000000  12.000000  12.000000  12.000000\n",
       "mean   -1.916667  -2.583333   1.083333   1.000000   3.416667\n",
       "std    11.704376   9.558036  13.865971  10.153369   9.443211\n",
       "min   -21.000000 -17.000000 -15.000000 -16.000000 -10.000000\n",
       "25%   -10.000000  -7.500000  -9.250000  -5.250000  -3.500000\n",
       "50%    -1.000000  -3.500000  -2.500000  -1.000000   2.500000\n",
       "75%     4.250000   5.000000   5.500000   8.000000   9.000000\n",
       "max    19.000000  12.000000  26.000000  19.000000  21.000000"
      ]
     },
     "execution_count": 46,
     "metadata": {},
     "output_type": "execute_result"
    }
   ],
   "source": [
    "df.describe() # df의 통계정보"
   ]
  },
  {
   "cell_type": "code",
   "execution_count": 47,
   "metadata": {},
   "outputs": [
    {
     "data": {
      "text/html": [
       "<div>\n",
       "<style scoped>\n",
       "    .dataframe tbody tr th:only-of-type {\n",
       "        vertical-align: middle;\n",
       "    }\n",
       "\n",
       "    .dataframe tbody tr th {\n",
       "        vertical-align: top;\n",
       "    }\n",
       "\n",
       "    .dataframe thead th {\n",
       "        text-align: right;\n",
       "    }\n",
       "</style>\n",
       "<table border=\"1\" class=\"dataframe\">\n",
       "  <thead>\n",
       "    <tr style=\"text-align: right;\">\n",
       "      <th></th>\n",
       "      <th>2019-09-11 00:00:00</th>\n",
       "      <th>2019-09-12 00:00:00</th>\n",
       "      <th>2019-09-13 00:00:00</th>\n",
       "      <th>2019-09-14 00:00:00</th>\n",
       "      <th>2019-09-15 00:00:00</th>\n",
       "      <th>2019-09-16 00:00:00</th>\n",
       "      <th>2019-09-17 00:00:00</th>\n",
       "      <th>2019-09-18 00:00:00</th>\n",
       "      <th>2019-09-19 00:00:00</th>\n",
       "      <th>2019-09-20 00:00:00</th>\n",
       "      <th>2019-09-21 00:00:00</th>\n",
       "      <th>2019-09-22 00:00:00</th>\n",
       "    </tr>\n",
       "  </thead>\n",
       "  <tbody>\n",
       "    <tr>\n",
       "      <th>A</th>\n",
       "      <td>2.0</td>\n",
       "      <td>-4.0</td>\n",
       "      <td>-14.0</td>\n",
       "      <td>-13.0</td>\n",
       "      <td>-21.0</td>\n",
       "      <td>5.0</td>\n",
       "      <td>3.0</td>\n",
       "      <td>13.0</td>\n",
       "      <td>19.0</td>\n",
       "      <td>-8.0</td>\n",
       "      <td>-9.0</td>\n",
       "      <td>4.0</td>\n",
       "    </tr>\n",
       "    <tr>\n",
       "      <th>B</th>\n",
       "      <td>-9.0</td>\n",
       "      <td>12.0</td>\n",
       "      <td>5.0</td>\n",
       "      <td>-17.0</td>\n",
       "      <td>-4.0</td>\n",
       "      <td>-1.0</td>\n",
       "      <td>-6.0</td>\n",
       "      <td>5.0</td>\n",
       "      <td>-17.0</td>\n",
       "      <td>11.0</td>\n",
       "      <td>-3.0</td>\n",
       "      <td>-7.0</td>\n",
       "    </tr>\n",
       "    <tr>\n",
       "      <th>C</th>\n",
       "      <td>2.0</td>\n",
       "      <td>-9.0</td>\n",
       "      <td>-2.0</td>\n",
       "      <td>24.0</td>\n",
       "      <td>-13.0</td>\n",
       "      <td>-5.0</td>\n",
       "      <td>2.0</td>\n",
       "      <td>-10.0</td>\n",
       "      <td>16.0</td>\n",
       "      <td>26.0</td>\n",
       "      <td>-15.0</td>\n",
       "      <td>-3.0</td>\n",
       "    </tr>\n",
       "    <tr>\n",
       "      <th>D</th>\n",
       "      <td>19.0</td>\n",
       "      <td>8.0</td>\n",
       "      <td>16.0</td>\n",
       "      <td>-8.0</td>\n",
       "      <td>1.0</td>\n",
       "      <td>-5.0</td>\n",
       "      <td>1.0</td>\n",
       "      <td>8.0</td>\n",
       "      <td>-3.0</td>\n",
       "      <td>-3.0</td>\n",
       "      <td>-6.0</td>\n",
       "      <td>-16.0</td>\n",
       "    </tr>\n",
       "    <tr>\n",
       "      <th>E</th>\n",
       "      <td>12.0</td>\n",
       "      <td>15.0</td>\n",
       "      <td>-3.0</td>\n",
       "      <td>-5.0</td>\n",
       "      <td>6.0</td>\n",
       "      <td>21.0</td>\n",
       "      <td>-6.0</td>\n",
       "      <td>6.0</td>\n",
       "      <td>-10.0</td>\n",
       "      <td>-2.0</td>\n",
       "      <td>-1.0</td>\n",
       "      <td>8.0</td>\n",
       "    </tr>\n",
       "  </tbody>\n",
       "</table>\n",
       "</div>"
      ],
      "text/plain": [
       "   2019-09-11  2019-09-12  2019-09-13  2019-09-14  2019-09-15  2019-09-16  \\\n",
       "A         2.0        -4.0       -14.0       -13.0       -21.0         5.0   \n",
       "B        -9.0        12.0         5.0       -17.0        -4.0        -1.0   \n",
       "C         2.0        -9.0        -2.0        24.0       -13.0        -5.0   \n",
       "D        19.0         8.0        16.0        -8.0         1.0        -5.0   \n",
       "E        12.0        15.0        -3.0        -5.0         6.0        21.0   \n",
       "\n",
       "   2019-09-17  2019-09-18  2019-09-19  2019-09-20  2019-09-21  2019-09-22  \n",
       "A         3.0        13.0        19.0        -8.0        -9.0         4.0  \n",
       "B        -6.0         5.0       -17.0        11.0        -3.0        -7.0  \n",
       "C         2.0       -10.0        16.0        26.0       -15.0        -3.0  \n",
       "D         1.0         8.0        -3.0        -3.0        -6.0       -16.0  \n",
       "E        -6.0         6.0       -10.0        -2.0        -1.0         8.0  "
      ]
     },
     "execution_count": 47,
     "metadata": {},
     "output_type": "execute_result"
    }
   ],
   "source": [
    "df.T #df의 행과 열 교체"
   ]
  },
  {
   "cell_type": "code",
   "execution_count": 53,
   "metadata": {},
   "outputs": [
    {
     "name": "stdout",
     "output_type": "stream",
     "text": [
      "2019-09-11     2.0\n",
      "2019-09-12    -4.0\n",
      "2019-09-13   -14.0\n",
      "2019-09-14   -13.0\n",
      "2019-09-15   -21.0\n",
      "2019-09-16     5.0\n",
      "2019-09-17     3.0\n",
      "2019-09-18    13.0\n",
      "2019-09-19    19.0\n",
      "2019-09-20    -8.0\n",
      "2019-09-21    -9.0\n",
      "2019-09-22     4.0\n",
      "Freq: D, Name: A, dtype: float64\n",
      "2019-09-11     2.0\n",
      "2019-09-12    -4.0\n",
      "2019-09-13   -14.0\n",
      "2019-09-14   -13.0\n",
      "2019-09-15   -21.0\n",
      "2019-09-16     5.0\n",
      "2019-09-17     3.0\n",
      "2019-09-18    13.0\n",
      "2019-09-19    19.0\n",
      "2019-09-20    -8.0\n",
      "2019-09-21    -9.0\n",
      "2019-09-22     4.0\n",
      "Freq: D, Name: A, dtype: float64\n"
     ]
    }
   ],
   "source": [
    "print(df['A']) \n",
    "print(df.A) # A열의 모든 값 가져오기"
   ]
  },
  {
   "cell_type": "code",
   "execution_count": 54,
   "metadata": {},
   "outputs": [
    {
     "data": {
      "text/plain": [
       "A     2.0\n",
       "B    -9.0\n",
       "C     2.0\n",
       "D    19.0\n",
       "E    12.0\n",
       "Name: 2019-09-11 00:00:00, dtype: float64"
      ]
     },
     "execution_count": 54,
     "metadata": {},
     "output_type": "execute_result"
    }
   ],
   "source": [
    "df.loc[dates[0]] # 각 열의 0번째 값 출"
   ]
  },
  {
   "cell_type": "code",
   "execution_count": 55,
   "metadata": {},
   "outputs": [
    {
     "data": {
      "text/html": [
       "<div>\n",
       "<style scoped>\n",
       "    .dataframe tbody tr th:only-of-type {\n",
       "        vertical-align: middle;\n",
       "    }\n",
       "\n",
       "    .dataframe tbody tr th {\n",
       "        vertical-align: top;\n",
       "    }\n",
       "\n",
       "    .dataframe thead th {\n",
       "        text-align: right;\n",
       "    }\n",
       "</style>\n",
       "<table border=\"1\" class=\"dataframe\">\n",
       "  <thead>\n",
       "    <tr style=\"text-align: right;\">\n",
       "      <th></th>\n",
       "      <th>A</th>\n",
       "      <th>B</th>\n",
       "    </tr>\n",
       "  </thead>\n",
       "  <tbody>\n",
       "    <tr>\n",
       "      <th>2019-09-11</th>\n",
       "      <td>2.0</td>\n",
       "      <td>-9.0</td>\n",
       "    </tr>\n",
       "    <tr>\n",
       "      <th>2019-09-12</th>\n",
       "      <td>-4.0</td>\n",
       "      <td>12.0</td>\n",
       "    </tr>\n",
       "    <tr>\n",
       "      <th>2019-09-13</th>\n",
       "      <td>-14.0</td>\n",
       "      <td>5.0</td>\n",
       "    </tr>\n",
       "    <tr>\n",
       "      <th>2019-09-14</th>\n",
       "      <td>-13.0</td>\n",
       "      <td>-17.0</td>\n",
       "    </tr>\n",
       "    <tr>\n",
       "      <th>2019-09-15</th>\n",
       "      <td>-21.0</td>\n",
       "      <td>-4.0</td>\n",
       "    </tr>\n",
       "    <tr>\n",
       "      <th>2019-09-16</th>\n",
       "      <td>5.0</td>\n",
       "      <td>-1.0</td>\n",
       "    </tr>\n",
       "    <tr>\n",
       "      <th>2019-09-17</th>\n",
       "      <td>3.0</td>\n",
       "      <td>-6.0</td>\n",
       "    </tr>\n",
       "    <tr>\n",
       "      <th>2019-09-18</th>\n",
       "      <td>13.0</td>\n",
       "      <td>5.0</td>\n",
       "    </tr>\n",
       "    <tr>\n",
       "      <th>2019-09-19</th>\n",
       "      <td>19.0</td>\n",
       "      <td>-17.0</td>\n",
       "    </tr>\n",
       "    <tr>\n",
       "      <th>2019-09-20</th>\n",
       "      <td>-8.0</td>\n",
       "      <td>11.0</td>\n",
       "    </tr>\n",
       "    <tr>\n",
       "      <th>2019-09-21</th>\n",
       "      <td>-9.0</td>\n",
       "      <td>-3.0</td>\n",
       "    </tr>\n",
       "    <tr>\n",
       "      <th>2019-09-22</th>\n",
       "      <td>4.0</td>\n",
       "      <td>-7.0</td>\n",
       "    </tr>\n",
       "  </tbody>\n",
       "</table>\n",
       "</div>"
      ],
      "text/plain": [
       "               A     B\n",
       "2019-09-11   2.0  -9.0\n",
       "2019-09-12  -4.0  12.0\n",
       "2019-09-13 -14.0   5.0\n",
       "2019-09-14 -13.0 -17.0\n",
       "2019-09-15 -21.0  -4.0\n",
       "2019-09-16   5.0  -1.0\n",
       "2019-09-17   3.0  -6.0\n",
       "2019-09-18  13.0   5.0\n",
       "2019-09-19  19.0 -17.0\n",
       "2019-09-20  -8.0  11.0\n",
       "2019-09-21  -9.0  -3.0\n",
       "2019-09-22   4.0  -7.0"
      ]
     },
     "execution_count": 55,
     "metadata": {},
     "output_type": "execute_result"
    }
   ],
   "source": [
    "df.loc[:,['A','B']] # A B 열의 값 출력"
   ]
  },
  {
   "cell_type": "code",
   "execution_count": 56,
   "metadata": {},
   "outputs": [
    {
     "data": {
      "text/plain": [
       "A    2.0\n",
       "B   -9.0\n",
       "Name: 2019-09-11 00:00:00, dtype: float64"
      ]
     },
     "execution_count": 56,
     "metadata": {},
     "output_type": "execute_result"
    }
   ],
   "source": [
    "df.loc[dates[0],['A','B']] # A B 열의 값의 0번째 값만 출력"
   ]
  },
  {
   "cell_type": "code",
   "execution_count": 57,
   "metadata": {},
   "outputs": [
    {
     "data": {
      "text/plain": [
       "2.0"
      ]
     },
     "execution_count": 57,
     "metadata": {},
     "output_type": "execute_result"
    }
   ],
   "source": [
    "df.at[dates[0],'A'] # A 열의 0번째 값 확인"
   ]
  },
  {
   "cell_type": "code",
   "execution_count": 51,
   "metadata": {},
   "outputs": [
    {
     "data": {
      "text/html": [
       "<div>\n",
       "<style scoped>\n",
       "    .dataframe tbody tr th:only-of-type {\n",
       "        vertical-align: middle;\n",
       "    }\n",
       "\n",
       "    .dataframe tbody tr th {\n",
       "        vertical-align: top;\n",
       "    }\n",
       "\n",
       "    .dataframe thead th {\n",
       "        text-align: right;\n",
       "    }\n",
       "</style>\n",
       "<table border=\"1\" class=\"dataframe\">\n",
       "  <thead>\n",
       "    <tr style=\"text-align: right;\">\n",
       "      <th></th>\n",
       "      <th>A</th>\n",
       "      <th>B</th>\n",
       "    </tr>\n",
       "  </thead>\n",
       "  <tbody>\n",
       "    <tr>\n",
       "      <th>2019-09-11</th>\n",
       "      <td>2.0</td>\n",
       "      <td>-9.0</td>\n",
       "    </tr>\n",
       "    <tr>\n",
       "      <th>2019-09-12</th>\n",
       "      <td>-4.0</td>\n",
       "      <td>12.0</td>\n",
       "    </tr>\n",
       "    <tr>\n",
       "      <th>2019-09-13</th>\n",
       "      <td>-14.0</td>\n",
       "      <td>5.0</td>\n",
       "    </tr>\n",
       "    <tr>\n",
       "      <th>2019-09-14</th>\n",
       "      <td>-13.0</td>\n",
       "      <td>-17.0</td>\n",
       "    </tr>\n",
       "  </tbody>\n",
       "</table>\n",
       "</div>"
      ],
      "text/plain": [
       "               A     B\n",
       "2019-09-11   2.0  -9.0\n",
       "2019-09-12  -4.0  12.0\n",
       "2019-09-13 -14.0   5.0\n",
       "2019-09-14 -13.0 -17.0"
      ]
     },
     "execution_count": 51,
     "metadata": {},
     "output_type": "execute_result"
    }
   ],
   "source": [
    "df.iloc[0:4,0:2] #0행에서 4행 까지, 0열에서 2열 까지의 값 출력"
   ]
  },
  {
   "cell_type": "markdown",
   "metadata": {},
   "source": [
    "# loc와 iloc의 차이점\n",
    "## loc 는 인덱스가 가지고 있는 값을 기준으로 동작\n",
    "## iloc 은 인덱스의 위치 기준으로 동작(정수만 사용)"
   ]
  },
  {
   "cell_type": "code",
   "execution_count": 58,
   "metadata": {},
   "outputs": [
    {
     "data": {
      "text/plain": [
       "-9.0"
      ]
     },
     "execution_count": 58,
     "metadata": {},
     "output_type": "execute_result"
    }
   ],
   "source": [
    "df.iloc[1,2] # 1행 2열의 데이터 값 출력"
   ]
  },
  {
   "cell_type": "code",
   "execution_count": 59,
   "metadata": {},
   "outputs": [
    {
     "data": {
      "text/html": [
       "<div>\n",
       "<style scoped>\n",
       "    .dataframe tbody tr th:only-of-type {\n",
       "        vertical-align: middle;\n",
       "    }\n",
       "\n",
       "    .dataframe tbody tr th {\n",
       "        vertical-align: top;\n",
       "    }\n",
       "\n",
       "    .dataframe thead th {\n",
       "        text-align: right;\n",
       "    }\n",
       "</style>\n",
       "<table border=\"1\" class=\"dataframe\">\n",
       "  <thead>\n",
       "    <tr style=\"text-align: right;\">\n",
       "      <th></th>\n",
       "      <th>C</th>\n",
       "      <th>E</th>\n",
       "    </tr>\n",
       "  </thead>\n",
       "  <tbody>\n",
       "    <tr>\n",
       "      <th>2019-09-11</th>\n",
       "      <td>2.0</td>\n",
       "      <td>12.0</td>\n",
       "    </tr>\n",
       "    <tr>\n",
       "      <th>2019-09-13</th>\n",
       "      <td>-2.0</td>\n",
       "      <td>-3.0</td>\n",
       "    </tr>\n",
       "  </tbody>\n",
       "</table>\n",
       "</div>"
      ],
      "text/plain": [
       "              C     E\n",
       "2019-09-11  2.0  12.0\n",
       "2019-09-13 -2.0  -3.0"
      ]
     },
     "execution_count": 59,
     "metadata": {},
     "output_type": "execute_result"
    }
   ],
   "source": [
    "df.iloc[[0,2],[2,4]] # 0행과 2행의 2열,4열 데이터 값 출력"
   ]
  },
  {
   "cell_type": "code",
   "execution_count": 60,
   "metadata": {},
   "outputs": [
    {
     "data": {
      "text/plain": [
       "-2.0"
      ]
     },
     "execution_count": 60,
     "metadata": {},
     "output_type": "execute_result"
    }
   ],
   "source": [
    "df.iat[2,2] #2 행 2열의 데이터 값 출력"
   ]
  },
  {
   "cell_type": "code",
   "execution_count": 61,
   "metadata": {},
   "outputs": [
    {
     "data": {
      "text/html": [
       "<div>\n",
       "<style scoped>\n",
       "    .dataframe tbody tr th:only-of-type {\n",
       "        vertical-align: middle;\n",
       "    }\n",
       "\n",
       "    .dataframe tbody tr th {\n",
       "        vertical-align: top;\n",
       "    }\n",
       "\n",
       "    .dataframe thead th {\n",
       "        text-align: right;\n",
       "    }\n",
       "</style>\n",
       "<table border=\"1\" class=\"dataframe\">\n",
       "  <thead>\n",
       "    <tr style=\"text-align: right;\">\n",
       "      <th></th>\n",
       "      <th>A</th>\n",
       "      <th>B</th>\n",
       "      <th>C</th>\n",
       "      <th>D</th>\n",
       "      <th>E</th>\n",
       "    </tr>\n",
       "  </thead>\n",
       "  <tbody>\n",
       "    <tr>\n",
       "      <th>2019-09-11</th>\n",
       "      <td>2.0</td>\n",
       "      <td>-9.0</td>\n",
       "      <td>2.0</td>\n",
       "      <td>19.0</td>\n",
       "      <td>12.0</td>\n",
       "    </tr>\n",
       "    <tr>\n",
       "      <th>2019-09-16</th>\n",
       "      <td>5.0</td>\n",
       "      <td>-1.0</td>\n",
       "      <td>-5.0</td>\n",
       "      <td>-5.0</td>\n",
       "      <td>21.0</td>\n",
       "    </tr>\n",
       "    <tr>\n",
       "      <th>2019-09-17</th>\n",
       "      <td>3.0</td>\n",
       "      <td>-6.0</td>\n",
       "      <td>2.0</td>\n",
       "      <td>1.0</td>\n",
       "      <td>-6.0</td>\n",
       "    </tr>\n",
       "    <tr>\n",
       "      <th>2019-09-18</th>\n",
       "      <td>13.0</td>\n",
       "      <td>5.0</td>\n",
       "      <td>-10.0</td>\n",
       "      <td>8.0</td>\n",
       "      <td>6.0</td>\n",
       "    </tr>\n",
       "    <tr>\n",
       "      <th>2019-09-19</th>\n",
       "      <td>19.0</td>\n",
       "      <td>-17.0</td>\n",
       "      <td>16.0</td>\n",
       "      <td>-3.0</td>\n",
       "      <td>-10.0</td>\n",
       "    </tr>\n",
       "    <tr>\n",
       "      <th>2019-09-22</th>\n",
       "      <td>4.0</td>\n",
       "      <td>-7.0</td>\n",
       "      <td>-3.0</td>\n",
       "      <td>-16.0</td>\n",
       "      <td>8.0</td>\n",
       "    </tr>\n",
       "  </tbody>\n",
       "</table>\n",
       "</div>"
      ],
      "text/plain": [
       "               A     B     C     D     E\n",
       "2019-09-11   2.0  -9.0   2.0  19.0  12.0\n",
       "2019-09-16   5.0  -1.0  -5.0  -5.0  21.0\n",
       "2019-09-17   3.0  -6.0   2.0   1.0  -6.0\n",
       "2019-09-18  13.0   5.0 -10.0   8.0   6.0\n",
       "2019-09-19  19.0 -17.0  16.0  -3.0 -10.0\n",
       "2019-09-22   4.0  -7.0  -3.0 -16.0   8.0"
      ]
     },
     "execution_count": 61,
     "metadata": {},
     "output_type": "execute_result"
    }
   ],
   "source": [
    "df[df.A > 0] # A 열의 데이터 값이 0 보다 큰 값들만 출력"
   ]
  },
  {
   "cell_type": "code",
   "execution_count": 62,
   "metadata": {},
   "outputs": [
    {
     "data": {
      "text/html": [
       "<div>\n",
       "<style scoped>\n",
       "    .dataframe tbody tr th:only-of-type {\n",
       "        vertical-align: middle;\n",
       "    }\n",
       "\n",
       "    .dataframe tbody tr th {\n",
       "        vertical-align: top;\n",
       "    }\n",
       "\n",
       "    .dataframe thead th {\n",
       "        text-align: right;\n",
       "    }\n",
       "</style>\n",
       "<table border=\"1\" class=\"dataframe\">\n",
       "  <thead>\n",
       "    <tr style=\"text-align: right;\">\n",
       "      <th></th>\n",
       "      <th>A</th>\n",
       "      <th>B</th>\n",
       "      <th>C</th>\n",
       "      <th>D</th>\n",
       "      <th>E</th>\n",
       "    </tr>\n",
       "  </thead>\n",
       "  <tbody>\n",
       "    <tr>\n",
       "      <th>2019-09-11</th>\n",
       "      <td>2.0</td>\n",
       "      <td>NaN</td>\n",
       "      <td>2.0</td>\n",
       "      <td>19.0</td>\n",
       "      <td>12.0</td>\n",
       "    </tr>\n",
       "    <tr>\n",
       "      <th>2019-09-12</th>\n",
       "      <td>NaN</td>\n",
       "      <td>12.0</td>\n",
       "      <td>NaN</td>\n",
       "      <td>8.0</td>\n",
       "      <td>15.0</td>\n",
       "    </tr>\n",
       "    <tr>\n",
       "      <th>2019-09-13</th>\n",
       "      <td>NaN</td>\n",
       "      <td>5.0</td>\n",
       "      <td>NaN</td>\n",
       "      <td>16.0</td>\n",
       "      <td>NaN</td>\n",
       "    </tr>\n",
       "    <tr>\n",
       "      <th>2019-09-14</th>\n",
       "      <td>NaN</td>\n",
       "      <td>NaN</td>\n",
       "      <td>24.0</td>\n",
       "      <td>NaN</td>\n",
       "      <td>NaN</td>\n",
       "    </tr>\n",
       "    <tr>\n",
       "      <th>2019-09-15</th>\n",
       "      <td>NaN</td>\n",
       "      <td>NaN</td>\n",
       "      <td>NaN</td>\n",
       "      <td>1.0</td>\n",
       "      <td>6.0</td>\n",
       "    </tr>\n",
       "    <tr>\n",
       "      <th>2019-09-16</th>\n",
       "      <td>5.0</td>\n",
       "      <td>NaN</td>\n",
       "      <td>NaN</td>\n",
       "      <td>NaN</td>\n",
       "      <td>21.0</td>\n",
       "    </tr>\n",
       "    <tr>\n",
       "      <th>2019-09-17</th>\n",
       "      <td>3.0</td>\n",
       "      <td>NaN</td>\n",
       "      <td>2.0</td>\n",
       "      <td>1.0</td>\n",
       "      <td>NaN</td>\n",
       "    </tr>\n",
       "    <tr>\n",
       "      <th>2019-09-18</th>\n",
       "      <td>13.0</td>\n",
       "      <td>5.0</td>\n",
       "      <td>NaN</td>\n",
       "      <td>8.0</td>\n",
       "      <td>6.0</td>\n",
       "    </tr>\n",
       "    <tr>\n",
       "      <th>2019-09-19</th>\n",
       "      <td>19.0</td>\n",
       "      <td>NaN</td>\n",
       "      <td>16.0</td>\n",
       "      <td>NaN</td>\n",
       "      <td>NaN</td>\n",
       "    </tr>\n",
       "    <tr>\n",
       "      <th>2019-09-20</th>\n",
       "      <td>NaN</td>\n",
       "      <td>11.0</td>\n",
       "      <td>26.0</td>\n",
       "      <td>NaN</td>\n",
       "      <td>NaN</td>\n",
       "    </tr>\n",
       "    <tr>\n",
       "      <th>2019-09-21</th>\n",
       "      <td>NaN</td>\n",
       "      <td>NaN</td>\n",
       "      <td>NaN</td>\n",
       "      <td>NaN</td>\n",
       "      <td>NaN</td>\n",
       "    </tr>\n",
       "    <tr>\n",
       "      <th>2019-09-22</th>\n",
       "      <td>4.0</td>\n",
       "      <td>NaN</td>\n",
       "      <td>NaN</td>\n",
       "      <td>NaN</td>\n",
       "      <td>8.0</td>\n",
       "    </tr>\n",
       "  </tbody>\n",
       "</table>\n",
       "</div>"
      ],
      "text/plain": [
       "               A     B     C     D     E\n",
       "2019-09-11   2.0   NaN   2.0  19.0  12.0\n",
       "2019-09-12   NaN  12.0   NaN   8.0  15.0\n",
       "2019-09-13   NaN   5.0   NaN  16.0   NaN\n",
       "2019-09-14   NaN   NaN  24.0   NaN   NaN\n",
       "2019-09-15   NaN   NaN   NaN   1.0   6.0\n",
       "2019-09-16   5.0   NaN   NaN   NaN  21.0\n",
       "2019-09-17   3.0   NaN   2.0   1.0   NaN\n",
       "2019-09-18  13.0   5.0   NaN   8.0   6.0\n",
       "2019-09-19  19.0   NaN  16.0   NaN   NaN\n",
       "2019-09-20   NaN  11.0  26.0   NaN   NaN\n",
       "2019-09-21   NaN   NaN   NaN   NaN   NaN\n",
       "2019-09-22   4.0   NaN   NaN   NaN   8.0"
      ]
     },
     "execution_count": 62,
     "metadata": {},
     "output_type": "execute_result"
    }
   ],
   "source": [
    "df[df > 0] # df의 데이터 값이 0 보다 큰 값들만 출력, NaN 은 숫자가 아닌 값"
   ]
  },
  {
   "cell_type": "code",
   "execution_count": 63,
   "metadata": {},
   "outputs": [
    {
     "data": {
      "text/html": [
       "<div>\n",
       "<style scoped>\n",
       "    .dataframe tbody tr th:only-of-type {\n",
       "        vertical-align: middle;\n",
       "    }\n",
       "\n",
       "    .dataframe tbody tr th {\n",
       "        vertical-align: top;\n",
       "    }\n",
       "\n",
       "    .dataframe thead th {\n",
       "        text-align: right;\n",
       "    }\n",
       "</style>\n",
       "<table border=\"1\" class=\"dataframe\">\n",
       "  <thead>\n",
       "    <tr style=\"text-align: right;\">\n",
       "      <th></th>\n",
       "      <th>A</th>\n",
       "      <th>B</th>\n",
       "      <th>C</th>\n",
       "      <th>D</th>\n",
       "      <th>E</th>\n",
       "    </tr>\n",
       "  </thead>\n",
       "  <tbody>\n",
       "    <tr>\n",
       "      <th>2019-09-11</th>\n",
       "      <td>2.0</td>\n",
       "      <td>0.0</td>\n",
       "      <td>2.0</td>\n",
       "      <td>19.0</td>\n",
       "      <td>12.0</td>\n",
       "    </tr>\n",
       "    <tr>\n",
       "      <th>2019-09-12</th>\n",
       "      <td>0.0</td>\n",
       "      <td>12.0</td>\n",
       "      <td>0.0</td>\n",
       "      <td>8.0</td>\n",
       "      <td>15.0</td>\n",
       "    </tr>\n",
       "    <tr>\n",
       "      <th>2019-09-13</th>\n",
       "      <td>0.0</td>\n",
       "      <td>5.0</td>\n",
       "      <td>0.0</td>\n",
       "      <td>16.0</td>\n",
       "      <td>0.0</td>\n",
       "    </tr>\n",
       "    <tr>\n",
       "      <th>2019-09-14</th>\n",
       "      <td>0.0</td>\n",
       "      <td>0.0</td>\n",
       "      <td>24.0</td>\n",
       "      <td>0.0</td>\n",
       "      <td>0.0</td>\n",
       "    </tr>\n",
       "    <tr>\n",
       "      <th>2019-09-15</th>\n",
       "      <td>0.0</td>\n",
       "      <td>0.0</td>\n",
       "      <td>0.0</td>\n",
       "      <td>1.0</td>\n",
       "      <td>6.0</td>\n",
       "    </tr>\n",
       "    <tr>\n",
       "      <th>2019-09-16</th>\n",
       "      <td>5.0</td>\n",
       "      <td>0.0</td>\n",
       "      <td>0.0</td>\n",
       "      <td>0.0</td>\n",
       "      <td>21.0</td>\n",
       "    </tr>\n",
       "    <tr>\n",
       "      <th>2019-09-17</th>\n",
       "      <td>3.0</td>\n",
       "      <td>0.0</td>\n",
       "      <td>2.0</td>\n",
       "      <td>1.0</td>\n",
       "      <td>0.0</td>\n",
       "    </tr>\n",
       "    <tr>\n",
       "      <th>2019-09-18</th>\n",
       "      <td>13.0</td>\n",
       "      <td>5.0</td>\n",
       "      <td>0.0</td>\n",
       "      <td>8.0</td>\n",
       "      <td>6.0</td>\n",
       "    </tr>\n",
       "    <tr>\n",
       "      <th>2019-09-19</th>\n",
       "      <td>19.0</td>\n",
       "      <td>0.0</td>\n",
       "      <td>16.0</td>\n",
       "      <td>0.0</td>\n",
       "      <td>0.0</td>\n",
       "    </tr>\n",
       "    <tr>\n",
       "      <th>2019-09-20</th>\n",
       "      <td>0.0</td>\n",
       "      <td>11.0</td>\n",
       "      <td>26.0</td>\n",
       "      <td>0.0</td>\n",
       "      <td>0.0</td>\n",
       "    </tr>\n",
       "    <tr>\n",
       "      <th>2019-09-21</th>\n",
       "      <td>0.0</td>\n",
       "      <td>0.0</td>\n",
       "      <td>0.0</td>\n",
       "      <td>0.0</td>\n",
       "      <td>0.0</td>\n",
       "    </tr>\n",
       "    <tr>\n",
       "      <th>2019-09-22</th>\n",
       "      <td>4.0</td>\n",
       "      <td>0.0</td>\n",
       "      <td>0.0</td>\n",
       "      <td>0.0</td>\n",
       "      <td>8.0</td>\n",
       "    </tr>\n",
       "  </tbody>\n",
       "</table>\n",
       "</div>"
      ],
      "text/plain": [
       "               A     B     C     D     E\n",
       "2019-09-11   2.0   0.0   2.0  19.0  12.0\n",
       "2019-09-12   0.0  12.0   0.0   8.0  15.0\n",
       "2019-09-13   0.0   5.0   0.0  16.0   0.0\n",
       "2019-09-14   0.0   0.0  24.0   0.0   0.0\n",
       "2019-09-15   0.0   0.0   0.0   1.0   6.0\n",
       "2019-09-16   5.0   0.0   0.0   0.0  21.0\n",
       "2019-09-17   3.0   0.0   2.0   1.0   0.0\n",
       "2019-09-18  13.0   5.0   0.0   8.0   6.0\n",
       "2019-09-19  19.0   0.0  16.0   0.0   0.0\n",
       "2019-09-20   0.0  11.0  26.0   0.0   0.0\n",
       "2019-09-21   0.0   0.0   0.0   0.0   0.0\n",
       "2019-09-22   4.0   0.0   0.0   0.0   8.0"
      ]
     },
     "execution_count": 63,
     "metadata": {},
     "output_type": "execute_result"
    }
   ],
   "source": [
    "df2 = df.copy() # df2 에 df 복사\n",
    "df2[df2<0] = 0 # df2의 데이터값들이 0보다 작은 값들을 0으로 변환\n",
    "df2"
   ]
  },
  {
   "cell_type": "code",
   "execution_count": 64,
   "metadata": {},
   "outputs": [],
   "source": [
    "df.to_csv('csv_test.csv') # csv 파일로 변환\n",
    "df.to_excel('excel_test.xlsx',sheet_name='DataFrame') #excel파일로 변환 sheet 이름은 DataFrame"
   ]
  },
  {
   "cell_type": "code",
   "execution_count": 66,
   "metadata": {},
   "outputs": [
    {
     "name": "stdout",
     "output_type": "stream",
     "text": [
      "    Unnamed: 0     A     B     C     D     E\n",
      "0   2019-09-11   2.0  -9.0   2.0  19.0  12.0\n",
      "1   2019-09-12  -4.0  12.0  -9.0   8.0  15.0\n",
      "2   2019-09-13 -14.0   5.0  -2.0  16.0  -3.0\n",
      "3   2019-09-14 -13.0 -17.0  24.0  -8.0  -5.0\n",
      "4   2019-09-15 -21.0  -4.0 -13.0   1.0   6.0\n",
      "5   2019-09-16   5.0  -1.0  -5.0  -5.0  21.0\n",
      "6   2019-09-17   3.0  -6.0   2.0   1.0  -6.0\n",
      "7   2019-09-18  13.0   5.0 -10.0   8.0   6.0\n",
      "8   2019-09-19  19.0 -17.0  16.0  -3.0 -10.0\n",
      "9   2019-09-20  -8.0  11.0  26.0  -3.0  -2.0\n",
      "10  2019-09-21  -9.0  -3.0 -15.0  -6.0  -1.0\n",
      "11  2019-09-22   4.0  -7.0  -3.0 -16.0   8.0\n"
     ]
    }
   ],
   "source": [
    "csv = pd.read_csv('csv_test.csv') #scv 파일 불러오기\n",
    "excel = pd.read_excel('excel_test.xlsx') #excel 파일 불러오기\n",
    "print(csv)"
   ]
  },
  {
   "cell_type": "code",
   "execution_count": 67,
   "metadata": {},
   "outputs": [
    {
     "name": "stdout",
     "output_type": "stream",
     "text": [
      "   Unnamed: 0   A   B   C   D   E\n",
      "0  2019-09-11   2  -9   2  19  12\n",
      "1  2019-09-12  -4  12  -9   8  15\n",
      "2  2019-09-13 -14   5  -2  16  -3\n",
      "3  2019-09-14 -13 -17  24  -8  -5\n",
      "4  2019-09-15 -21  -4 -13   1   6\n",
      "5  2019-09-16   5  -1  -5  -5  21\n",
      "6  2019-09-17   3  -6   2   1  -6\n",
      "7  2019-09-18  13   5 -10   8   6\n",
      "8  2019-09-19  19 -17  16  -3 -10\n",
      "9  2019-09-20  -8  11  26  -3  -2\n",
      "10 2019-09-21  -9  -3 -15  -6  -1\n",
      "11 2019-09-22   4  -7  -3 -16   8\n"
     ]
    }
   ],
   "source": [
    "print(excel)"
   ]
  },
  {
   "cell_type": "markdown",
   "metadata": {},
   "source": [
    "## Matplotlib 라이브러리 실습"
   ]
  },
  {
   "cell_type": "code",
   "execution_count": 9,
   "metadata": {},
   "outputs": [
    {
     "data": {
      "image/png": "[encoded data removed]",
      "text/plain": [
       "<Figure size 432x288 with 1 Axes>"
      ]
     },
     "metadata": {
      "needs_background": "light"
     },
     "output_type": "display_data"
    }
   ],
   "source": [
    "import numpy as np\n",
    "import matplotlib.pyplot as plt # matplotlib 라이브러리 사용\n",
    "\n",
    "x = np.arange(0, 3*np.pi, 0.1) \n",
    "y = np.sin(x) # y는 x의 sin 함수\n",
    "\n",
    "plt.plot(x,y) # x축 y축 으로 그래프 형성\n",
    "plt.show()"
   ]
  },
  {
   "cell_type": "code",
   "execution_count": 10,
   "metadata": {},
   "outputs": [
    {
     "data": {
      "image/png": "[encoded data removed]",
      "text/plain": [
       "<Figure size 432x288 with 1 Axes>"
      ]
     },
     "metadata": {
      "needs_background": "light"
     },
     "output_type": "display_data"
    }
   ],
   "source": [
    "x = np.arange(0, 3*np.pi, 0.1)\n",
    "y = np.sin(x) # y는 x의 sin함수\n",
    "z = np.cos(x) # z는 x의 cos함수\n",
    "\n",
    "plt.plot(x,y) # x축 y축으로 그래프 형성\n",
    "plt.plot(x,z) # x축 z축으로 그래프 형성\n",
    "plt.xlabel(\"x axis\") # x축 제목을 지정\n",
    "plt.ylabel(\"y axis\") # y축 제목을 지정\n",
    "plt.title(\"Sine and Cosine\") # 그래프의 제목을 지정\n",
    "plt.legend([\"Sine\",\"Cosine\"]) # 그래프 라벨의 이름 지정\n",
    "plt.show()"
   ]
  },
  {
   "cell_type": "code",
   "execution_count": 11,
   "metadata": {},
   "outputs": [
    {
     "data": {
      "text/plain": [
       "Text(0.5, 1.0, 'Cosine')"
      ]
     },
     "execution_count": 11,
     "metadata": {},
     "output_type": "execute_result"
    },
    {
     "data": {
      "image/png": "[encoded data removed]",
      "text/plain": [
       "<Figure size 576x576 with 2 Axes>"
      ]
     },
     "metadata": {
      "needs_background": "light"
     },
     "output_type": "display_data"
    }
   ],
   "source": [
    "x = np.arange(0, 3*np.pi, 0.1)\n",
    "y = np.sin(x) # y는 x의 sin 함수\n",
    "z = np.cos(x) # z는 x의 cos 함수\n",
    "\n",
    "plt.figure(figsize=(8,8)) #figure 의 크기를 가로,세로 8인치로 생서합니다.\n",
    "\n",
    "plt.subplot(2,1,1) # 한 화면에 그래프를 2개 만들기 위해 subplot 함수를 사용합니다. 첫 번째 그래프 입니다.\n",
    "plt.plot(x,y) # x축,y축으로 그래프를 형성합니다.\n",
    "plt.xticks(np.arange(0, 3*np.pi, 0.5)) # x축의 이름을 0부터 0.5 간격으로 3*np.pi 까지로 지정합니다.\n",
    "plt.yticks(np.arange(-1, 1, 0.5)) # y축의 이름을 -1부터 0.5 간격으로 1 까지 지정합니다.\n",
    "plt.title(\"Sine\") # 그래프의 이름을 Sine 으로 지정합니다.\n",
    "\n",
    "plt.subplot(2,1,2) # 한 화면에 그래프 2개 만들기 위해 subplot 함수를 사용합니다. 두 번째 그래프 입니다.\n",
    "plt.plot(x,z) # x축,z축으로 그래프를 형성합니다.\n",
    "plt.xlim(0,np.pi) # x축의 이름을 0부터 np.pi 전 까지 0.5 간격으로 지정합니다.\n",
    "plt.ylim(-3,3)# y축의 이름을 -3 부터 3 까지 1 간격으로 지정합니다.\n",
    "plt.title(\"Cosine\") # 그래프의 이름을 Cosine으로 지정합니다."
   ]
  },
  {
   "cell_type": "code",
   "execution_count": null,
   "metadata": {},
   "outputs": [],
   "source": []
  }
 ],
 "metadata": {
  "kernelspec": {
   "display_name": "Python 3",
   "language": "python",
   "name": "python3"
  },
  "language_info": {
   "codemirror_mode": {
    "name": "ipython",
    "version": 3
   },
   "file_extension": ".py",
   "mimetype": "text/x-python",
   "name": "python",
   "nbconvert_exporter": "python",
   "pygments_lexer": "ipython3",
   "version": "3.7.1"
  }
 },
 "nbformat": 4,
 "nbformat_minor": 2
}
