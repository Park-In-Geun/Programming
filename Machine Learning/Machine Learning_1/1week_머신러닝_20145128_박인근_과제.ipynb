{
 "cells": [
  {
   "cell_type": "markdown",
   "metadata": {},
   "source": [
    "## 실습 과제 01. \n",
    "    1부터 n까지의 합 중에서 10000을 넘지 않는 가장 큰 합과 그 때의 n을 구하는 프로그램을 작성\n",
    "\n",
    "    조건\n",
    "    - 반복문 사용\n",
    "    - n과 10000을 넘지 않는 가장 큰 합 sum을 출력\n"
   ]
  },
  {
   "cell_type": "code",
   "execution_count": 1,
   "metadata": {},
   "outputs": [
    {
     "name": "stdout",
     "output_type": "stream",
     "text": [
      "가장 큰 합 =  9870\n",
      "그 때의 n =  140\n"
     ]
    }
   ],
   "source": [
    "sum = 0\n",
    "n = 0\n",
    "for i in range(1,10000):\n",
    "    sum += i\n",
    "    if sum >= 10000:\n",
    "        n = i-1\n",
    "        sum -= i\n",
    "        break\n",
    "print(\"가장 큰 합 = \",sum)\n",
    "print(\"그 때의 n = \",n)\n",
    "\n"
   ]
  },
  {
   "cell_type": "markdown",
   "metadata": {},
   "source": [
    "## 실습 과제 02.\n",
    "    역삼각형 만들기\n",
    "\n",
    "    조건\n",
    "    - 반복문 사용\n",
    "    - 함수형식으로 만들기 : 숫자(몇 줄)를 인자로 받아 출력하도록 만들기\n"
   ]
  },
  {
   "cell_type": "code",
   "execution_count": 1,
   "metadata": {},
   "outputs": [
    {
     "name": "stdout",
     "output_type": "stream",
     "text": [
      "몇 줄을 할 지 입력하세요:5\n",
      "*****\n",
      "****\n",
      "***\n",
      "**\n",
      "*\n"
     ]
    }
   ],
   "source": [
    "def reverse_tri(n):\n",
    "    for i in range(1, n+1):\n",
    "        print(\"*\"*(n+1-i))\n",
    "    \n",
    "n = int(input(\"몇 줄을 할 지 입력하세요:\"))\n",
    "reverse_tri(n)\n"
   ]
  },
  {
   "cell_type": "markdown",
   "metadata": {},
   "source": [
    "## 실습 과제 03.\n",
    "    사용자로부터 10개의 정수를 입력 받아 최대값, 최소값을 구하는 프로그램 작성\n",
    "\n",
    "    조건\n",
    "    - 리스트 사용, 사용자 입력(input 함수) 사용\n",
    "    - 열 개의 입력 값이 있는 리스트 내용과 최대값, 최소값 출력\n"
   ]
  },
  {
   "cell_type": "code",
   "execution_count": 6,
   "metadata": {},
   "outputs": [
    {
     "name": "stdout",
     "output_type": "stream",
     "text": [
      "번호를 입력하세요 : 10\n",
      "번호를 입력하세요 : 9\n",
      "번호를 입력하세요 : 8\n",
      "번호를 입력하세요 : 7\n",
      "번호를 입력하세요 : 6\n",
      "번호를 입력하세요 : 5\n",
      "번호를 입력하세요 : 4\n",
      "번호를 입력하세요 : 3\n",
      "번호를 입력하세요 : 2\n",
      "번호를 입력하세요 : 1\n",
      "[10, 9, 8, 7, 6, 5, 4, 3, 2, 1]\n",
      "최대 값 :  10\n",
      "최소 값 :  1\n"
     ]
    }
   ],
   "source": [
    "nlist = []\n",
    "max = 0\n",
    "min = 0\n",
    "for i in range(0,10):\n",
    "    n = int(input(\"번호를 입력하세요 : \"))\n",
    "    nlist.append(n)\n",
    "    if i == 0:\n",
    "        max = nlist[i]\n",
    "        min = nlist[i]\n",
    "    if nlist[i] > max:\n",
    "        max = nlist[i]\n",
    "    elif nlist[i] < min:\n",
    "        min = nlist[i]\n",
    "\n",
    "print(nlist)\n",
    "print(\"최대 값 : \",max)\n",
    "print(\"최소 값 : \",min) "
   ]
  },
  {
   "cell_type": "markdown",
   "metadata": {},
   "source": [
    "## 실습 과제 04.\n",
    "    \n",
    "    글자수가 8자 이하인 단어 개수 세기\n",
    "\n",
    "    조건\n",
    "    - 리스트를 인자로 받는다. [‘abcde’,’aa’,’hello’,’asdasdsdad’,’kkkkkkkkkk’]\n",
    "    - 8자 이하인 단어의 개수를 return/출력\n"
   ]
  },
  {
   "cell_type": "code",
   "execution_count": 24,
   "metadata": {},
   "outputs": [
    {
     "name": "stdout",
     "output_type": "stream",
     "text": [
      "글자수가 8자 이하인 단어의 개수는 : 3\n"
     ]
    }
   ],
   "source": [
    "def count_list():\n",
    "    mylist = ['abcde','aa','hello','asdasdsdad','kkkkkkkkkk']\n",
    "    count = 0\n",
    "\n",
    "    for i in range(0,4):\n",
    "        if len(mylist[i]) <= 8:\n",
    "            count += 1\n",
    "    \n",
    "    return count\n",
    "\n",
    "print(\"글자수가 8자 이하인 단어의 개수는 : %d\" % count_list())\n",
    "        \n"
   ]
  },
  {
   "cell_type": "markdown",
   "metadata": {},
   "source": [
    "## 실습 과제 05.\n",
    "    - Makelist() = 0~9까지의 숫자를 랜덤으로 30개 선택해서 리스트로 만들고 반환 \n",
    "    - Savefile() = 리스트를 파일로 저장한다(pickle)\n",
    "    - Loadfile() = 파일에 저장된 리스트를 반환한다(pickle) + 예외처리\n",
    "    - Print_dvalue() = 리스트를 전체 출력 하고 각 숫자가 몇 번 중복되어 나타나는지 출력(외장 함수 사용하지 말기)\n"
   ]
  },
  {
   "cell_type": "code",
   "execution_count": 2,
   "metadata": {},
   "outputs": [
    {
     "name": "stdout",
     "output_type": "stream",
     "text": [
      "리스트 =  [3, 4, 3, 0, 4, 8, 3, 1, 4, 7, 9, 0, 1, 9, 9, 5, 4, 6, 3, 2, 5, 6, 3, 9, 0, 2, 4, 8, 2, 7]\n",
      "0  값은  3 번 중복\n",
      "1  값은  2 번 중복\n",
      "2  값은  3 번 중복\n",
      "3  값은  5 번 중복\n",
      "4  값은  5 번 중복\n",
      "5  값은  2 번 중복\n",
      "6  값은  2 번 중복\n",
      "7  값은  2 번 중복\n",
      "8  값은  2 번 중복\n",
      "9  값은  4 번 중복\n"
     ]
    }
   ],
   "source": [
    "import random\n",
    "import pickle\n",
    "import os\n",
    "\n",
    "random.seed(20145128)\n",
    "def makelist():\n",
    "    mylist = [random.randint(0,9) for r in range(30)]\n",
    "    return mylist\n",
    "    \n",
    "def savefile(filepath, MLdatalist):\n",
    "    f = open(\"pickle.pkl\",\"wb\")\n",
    "    pickle.dump(makelist(),f)\n",
    "    f.close()\n",
    "    \n",
    "def loadfile(filepath):\n",
    "    try:\n",
    "        f = open(\"pickle.pkl\",\"rb\")\n",
    "    except FileNotFoundError as e:\n",
    "        print(str(e))\n",
    "    else:\n",
    "        data = pickle.load(f)\n",
    "        f.close()\n",
    "        return data\n",
    "    \n",
    "def print_dvalue(MLdatalist):\n",
    "    print(\"리스트 = \",MLdatalist)\n",
    "    for i in range(0,10):\n",
    "        print(i,\" 값은 \",MLdatalist.count(i),\"번 중복\")\n",
    "        \n",
    "    \n",
    "if __name__== \"__main__\":\n",
    "    file_path = os.getcwd() + \"/ML-data.pkl\"\n",
    "    MLdatalist = makelist()\n",
    "    savefile(file_path,MLdatalist)\n",
    "    \n",
    "    del MLdatalist\n",
    "    MLdatalist = loadfile(file_path)\n",
    "    print_dvalue(MLdatalist)\n"
   ]
  },
  {
   "cell_type": "code",
   "execution_count": null,
   "metadata": {},
   "outputs": [],
   "source": []
  }
 ],
 "metadata": {
  "kernelspec": {
   "display_name": "Python 3",
   "language": "python",
   "name": "python3"
  },
  "language_info": {
   "codemirror_mode": {
    "name": "ipython",
    "version": 3
   },
   "file_extension": ".py",
   "mimetype": "text/x-python",
   "name": "python",
   "nbconvert_exporter": "python",
   "pygments_lexer": "ipython3",
   "version": "3.7.1"
  }
 },
 "nbformat": 4,
 "nbformat_minor": 2
}
