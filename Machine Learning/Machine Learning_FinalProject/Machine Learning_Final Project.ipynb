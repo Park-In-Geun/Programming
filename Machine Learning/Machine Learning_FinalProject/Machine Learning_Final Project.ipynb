{
 "cells": [
  {
   "cell_type": "code",
   "execution_count": 1,
   "metadata": {},
   "outputs": [],
   "source": [
    "import pandas as pd\n",
    "import numpy as np\n",
    "from sklearn.model_selection import train_test_split\n",
    "from sklearn.pipeline import Pipeline\n",
    "from sklearn.preprocessing import StandardScaler\n",
    "from sklearn.preprocessing import OneHotEncoder\n",
    "from sklearn.preprocessing import Imputer\n",
    "from sklearn.base import BaseEstimator, TransformerMixin\n",
    "from sklearn.compose import ColumnTransformer\n",
    "from sklearn.metrics import precision_score\n",
    "from sklearn.metrics import accuracy_score\n",
    "from sklearn.metrics import recall_score\n",
    "from sklearn.linear_model import LinearRegression\n",
    "from sklearn.metrics import mean_squared_error\n",
    "from sklearn.model_selection import cross_val_score\n",
    "from sklearn.ensemble import RandomForestClassifier\n",
    "from sklearn.metrics import f1_score\n",
    "from sklearn.metrics import mean_squared_error\n",
    "from sklearn.linear_model import LinearRegression\n",
    "from sklearn import datasets\n",
    "from sklearn.svm import LinearSVC\n",
    "from sklearn.metrics import mean_squared_error\n",
    "from sklearn.preprocessing import PolynomialFeatures\n",
    "from sklearn.ensemble import RandomForestRegressor\n",
    "\n",
    "churn = pd.read_csv('Churn_Modelling.csv', index_col=0) # 파일 읽기"
   ]
  },
  {
   "cell_type": "code",
   "execution_count": 2,
   "metadata": {},
   "outputs": [
    {
     "name": "stdout",
     "output_type": "stream",
     "text": [
      "<class 'pandas.core.frame.DataFrame'>\n",
      "Int64Index: 10000 entries, 1 to 10000\n",
      "Data columns (total 13 columns):\n",
      "CustomerId         10000 non-null int64\n",
      "Surname            10000 non-null object\n",
      "CreditScore        10000 non-null int64\n",
      "Geography          10000 non-null object\n",
      "Gender             10000 non-null object\n",
      "Age                10000 non-null int64\n",
      "Tenure             10000 non-null int64\n",
      "Balance            10000 non-null float64\n",
      "NumOfProducts      10000 non-null int64\n",
      "HasCrCard          10000 non-null int64\n",
      "IsActiveMember     10000 non-null int64\n",
      "EstimatedSalary    10000 non-null float64\n",
      "Exited             10000 non-null int64\n",
      "dtypes: float64(2), int64(8), object(3)\n",
      "memory usage: 1.1+ MB\n"
     ]
    }
   ],
   "source": [
    "churn.info()"
   ]
  },
  {
   "cell_type": "code",
   "execution_count": 3,
   "metadata": {},
   "outputs": [
    {
     "name": "stdout",
     "output_type": "stream",
     "text": [
      "(10000, 13)\n"
     ]
    }
   ],
   "source": [
    "print(churn.shape)"
   ]
  },
  {
   "cell_type": "code",
   "execution_count": 4,
   "metadata": {},
   "outputs": [
    {
     "data": {
      "text/html": [
       "<div>\n",
       "<style scoped>\n",
       "    .dataframe tbody tr th:only-of-type {\n",
       "        vertical-align: middle;\n",
       "    }\n",
       "\n",
       "    .dataframe tbody tr th {\n",
       "        vertical-align: top;\n",
       "    }\n",
       "\n",
       "    .dataframe thead th {\n",
       "        text-align: right;\n",
       "    }\n",
       "</style>\n",
       "<table border=\"1\" class=\"dataframe\">\n",
       "  <thead>\n",
       "    <tr style=\"text-align: right;\">\n",
       "      <th></th>\n",
       "      <th>CustomerId</th>\n",
       "      <th>CreditScore</th>\n",
       "      <th>Age</th>\n",
       "      <th>Tenure</th>\n",
       "      <th>Balance</th>\n",
       "      <th>NumOfProducts</th>\n",
       "      <th>HasCrCard</th>\n",
       "      <th>IsActiveMember</th>\n",
       "      <th>EstimatedSalary</th>\n",
       "      <th>Exited</th>\n",
       "    </tr>\n",
       "  </thead>\n",
       "  <tbody>\n",
       "    <tr>\n",
       "      <td>count</td>\n",
       "      <td>1.000000e+04</td>\n",
       "      <td>10000.000000</td>\n",
       "      <td>10000.000000</td>\n",
       "      <td>10000.000000</td>\n",
       "      <td>10000.000000</td>\n",
       "      <td>10000.000000</td>\n",
       "      <td>10000.00000</td>\n",
       "      <td>10000.000000</td>\n",
       "      <td>10000.000000</td>\n",
       "      <td>10000.000000</td>\n",
       "    </tr>\n",
       "    <tr>\n",
       "      <td>mean</td>\n",
       "      <td>1.569094e+07</td>\n",
       "      <td>650.528800</td>\n",
       "      <td>38.921800</td>\n",
       "      <td>5.012800</td>\n",
       "      <td>76485.889288</td>\n",
       "      <td>1.530200</td>\n",
       "      <td>0.70550</td>\n",
       "      <td>0.515100</td>\n",
       "      <td>100090.239881</td>\n",
       "      <td>0.203700</td>\n",
       "    </tr>\n",
       "    <tr>\n",
       "      <td>std</td>\n",
       "      <td>7.193619e+04</td>\n",
       "      <td>96.653299</td>\n",
       "      <td>10.487806</td>\n",
       "      <td>2.892174</td>\n",
       "      <td>62397.405202</td>\n",
       "      <td>0.581654</td>\n",
       "      <td>0.45584</td>\n",
       "      <td>0.499797</td>\n",
       "      <td>57510.492818</td>\n",
       "      <td>0.402769</td>\n",
       "    </tr>\n",
       "    <tr>\n",
       "      <td>min</td>\n",
       "      <td>1.556570e+07</td>\n",
       "      <td>350.000000</td>\n",
       "      <td>18.000000</td>\n",
       "      <td>0.000000</td>\n",
       "      <td>0.000000</td>\n",
       "      <td>1.000000</td>\n",
       "      <td>0.00000</td>\n",
       "      <td>0.000000</td>\n",
       "      <td>11.580000</td>\n",
       "      <td>0.000000</td>\n",
       "    </tr>\n",
       "    <tr>\n",
       "      <td>25%</td>\n",
       "      <td>1.562853e+07</td>\n",
       "      <td>584.000000</td>\n",
       "      <td>32.000000</td>\n",
       "      <td>3.000000</td>\n",
       "      <td>0.000000</td>\n",
       "      <td>1.000000</td>\n",
       "      <td>0.00000</td>\n",
       "      <td>0.000000</td>\n",
       "      <td>51002.110000</td>\n",
       "      <td>0.000000</td>\n",
       "    </tr>\n",
       "    <tr>\n",
       "      <td>50%</td>\n",
       "      <td>1.569074e+07</td>\n",
       "      <td>652.000000</td>\n",
       "      <td>37.000000</td>\n",
       "      <td>5.000000</td>\n",
       "      <td>97198.540000</td>\n",
       "      <td>1.000000</td>\n",
       "      <td>1.00000</td>\n",
       "      <td>1.000000</td>\n",
       "      <td>100193.915000</td>\n",
       "      <td>0.000000</td>\n",
       "    </tr>\n",
       "    <tr>\n",
       "      <td>75%</td>\n",
       "      <td>1.575323e+07</td>\n",
       "      <td>718.000000</td>\n",
       "      <td>44.000000</td>\n",
       "      <td>7.000000</td>\n",
       "      <td>127644.240000</td>\n",
       "      <td>2.000000</td>\n",
       "      <td>1.00000</td>\n",
       "      <td>1.000000</td>\n",
       "      <td>149388.247500</td>\n",
       "      <td>0.000000</td>\n",
       "    </tr>\n",
       "    <tr>\n",
       "      <td>max</td>\n",
       "      <td>1.581569e+07</td>\n",
       "      <td>850.000000</td>\n",
       "      <td>92.000000</td>\n",
       "      <td>10.000000</td>\n",
       "      <td>250898.090000</td>\n",
       "      <td>4.000000</td>\n",
       "      <td>1.00000</td>\n",
       "      <td>1.000000</td>\n",
       "      <td>199992.480000</td>\n",
       "      <td>1.000000</td>\n",
       "    </tr>\n",
       "  </tbody>\n",
       "</table>\n",
       "</div>"
      ],
      "text/plain": [
       "         CustomerId   CreditScore           Age        Tenure        Balance  \\\n",
       "count  1.000000e+04  10000.000000  10000.000000  10000.000000   10000.000000   \n",
       "mean   1.569094e+07    650.528800     38.921800      5.012800   76485.889288   \n",
       "std    7.193619e+04     96.653299     10.487806      2.892174   62397.405202   \n",
       "min    1.556570e+07    350.000000     18.000000      0.000000       0.000000   \n",
       "25%    1.562853e+07    584.000000     32.000000      3.000000       0.000000   \n",
       "50%    1.569074e+07    652.000000     37.000000      5.000000   97198.540000   \n",
       "75%    1.575323e+07    718.000000     44.000000      7.000000  127644.240000   \n",
       "max    1.581569e+07    850.000000     92.000000     10.000000  250898.090000   \n",
       "\n",
       "       NumOfProducts    HasCrCard  IsActiveMember  EstimatedSalary  \\\n",
       "count   10000.000000  10000.00000    10000.000000     10000.000000   \n",
       "mean        1.530200      0.70550        0.515100    100090.239881   \n",
       "std         0.581654      0.45584        0.499797     57510.492818   \n",
       "min         1.000000      0.00000        0.000000        11.580000   \n",
       "25%         1.000000      0.00000        0.000000     51002.110000   \n",
       "50%         1.000000      1.00000        1.000000    100193.915000   \n",
       "75%         2.000000      1.00000        1.000000    149388.247500   \n",
       "max         4.000000      1.00000        1.000000    199992.480000   \n",
       "\n",
       "             Exited  \n",
       "count  10000.000000  \n",
       "mean       0.203700  \n",
       "std        0.402769  \n",
       "min        0.000000  \n",
       "25%        0.000000  \n",
       "50%        0.000000  \n",
       "75%        0.000000  \n",
       "max        1.000000  "
      ]
     },
     "execution_count": 4,
     "metadata": {},
     "output_type": "execute_result"
    }
   ],
   "source": [
    "churn.describe()"
   ]
  },
  {
   "cell_type": "code",
   "execution_count": 5,
   "metadata": {
    "scrolled": false
   },
   "outputs": [
    {
     "data": {
      "text/plain": [
       "array([[<matplotlib.axes._subplots.AxesSubplot object at 0x00000267E033E888>,\n",
       "        <matplotlib.axes._subplots.AxesSubplot object at 0x00000267E06FC208>,\n",
       "        <matplotlib.axes._subplots.AxesSubplot object at 0x00000267E0732F88>],\n",
       "       [<matplotlib.axes._subplots.AxesSubplot object at 0x00000267E07700C8>,\n",
       "        <matplotlib.axes._subplots.AxesSubplot object at 0x00000267E07A8208>,\n",
       "        <matplotlib.axes._subplots.AxesSubplot object at 0x00000267E07DF308>],\n",
       "       [<matplotlib.axes._subplots.AxesSubplot object at 0x00000267E0819408>,\n",
       "        <matplotlib.axes._subplots.AxesSubplot object at 0x00000267E0851548>,\n",
       "        <matplotlib.axes._subplots.AxesSubplot object at 0x00000267E085D148>],\n",
       "       [<matplotlib.axes._subplots.AxesSubplot object at 0x00000267E0895348>,\n",
       "        <matplotlib.axes._subplots.AxesSubplot object at 0x00000267E08F8808>,\n",
       "        <matplotlib.axes._subplots.AxesSubplot object at 0x00000267E0930A08>]],\n",
       "      dtype=object)"
      ]
     },
     "execution_count": 5,
     "metadata": {},
     "output_type": "execute_result"
    }
   ],
   "source": [
    "churn.hist(figsize=(20,15))"
   ]
  },
  {
   "cell_type": "code",
   "execution_count": 6,
   "metadata": {},
   "outputs": [
    {
     "data": {
      "text/plain": [
       "Exited             1.000000\n",
       "Age                0.285323\n",
       "Balance            0.118533\n",
       "EstimatedSalary    0.012097\n",
       "CustomerId        -0.006248\n",
       "HasCrCard         -0.007138\n",
       "Tenure            -0.014001\n",
       "CreditScore       -0.027094\n",
       "NumOfProducts     -0.047820\n",
       "IsActiveMember    -0.156128\n",
       "Name: Exited, dtype: float64"
      ]
     },
     "execution_count": 6,
     "metadata": {},
     "output_type": "execute_result"
    }
   ],
   "source": [
    "corr_matrix = churn.corr()\n",
    "corr_matrix[\"Exited\"].sort_values(ascending=False)"
   ]
  },
  {
   "cell_type": "code",
   "execution_count": 7,
   "metadata": {},
   "outputs": [],
   "source": [
    "class DataFrameSelector(BaseEstimator, TransformerMixin):\n",
    "    def __init__(self, attribute_names):\n",
    "        self.attribute_names = attribute_names\n",
    "    def fit(self, X, y=None):\n",
    "        return self\n",
    "    def transform(self, X):\n",
    "        return X[self.attribute_names].values"
   ]
  },
  {
   "cell_type": "code",
   "execution_count": 8,
   "metadata": {},
   "outputs": [
    {
     "name": "stdout",
     "output_type": "stream",
     "text": [
      "['CustomerId', 'CreditScore', 'Age', 'Tenure', 'Balance', 'NumOfProducts', 'HasCrCard', 'IsActiveMember', 'EstimatedSalary'] 9 2\n",
      "['Geography', 'Gender']\n",
      "(10000, 14)\n"
     ]
    },
    {
     "name": "stderr",
     "output_type": "stream",
     "text": [
      "C:\\Users\\newxe\\Anaconda3\\lib\\site-packages\\sklearn\\utils\\deprecation.py:66: DeprecationWarning: Class Imputer is deprecated; Imputer was deprecated in version 0.20 and will be removed in 0.22. Import impute.SimpleImputer from sklearn instead.\n",
      "  warnings.warn(msg, category=DeprecationWarning)\n",
      "C:\\Users\\newxe\\Anaconda3\\lib\\site-packages\\sklearn\\utils\\deprecation.py:66: DeprecationWarning: Class Imputer is deprecated; Imputer was deprecated in version 0.20 and will be removed in 0.22. Import impute.SimpleImputer from sklearn instead.\n",
      "  warnings.warn(msg, category=DeprecationWarning)\n"
     ]
    }
   ],
   "source": [
    "\n",
    "churn_labels = churn[\"Exited\"].copy() \n",
    "churn = churn.drop(\"Exited\", axis=1)\n",
    "churn = churn.drop(\"Surname\", axis=1) \n",
    "cat_data = churn.select_dtypes(include=['object']) \n",
    "num_data = churn.select_dtypes(include=['int64','float64']) \n",
    "\n",
    "num_attribs = list(num_data)    \n",
    "cat_attribs = list(cat_data) \n",
    "\n",
    "print(num_attribs, len(num_attribs), len(cat_attribs))\n",
    "print(cat_attribs)\n",
    "\n",
    "churn = pd.concat([cat_data,num_data],axis=1) \n",
    "\n",
    "num_pipeline = Pipeline([ \n",
    "                ('selector', DataFrameSelector(num_attribs)), \n",
    "                ('imputer', Imputer(strategy=\"median\")),\n",
    "                ('std_scaler', StandardScaler()), \n",
    "            ])\n",
    "\n",
    "cat_pipeline = Pipeline([\n",
    "                ('selector', DataFrameSelector(cat_attribs)), \n",
    "                ('cat_encoder', OneHotEncoder(sparse=False)), \n",
    "                ('std_scaler', StandardScaler()), \n",
    "            ]) \n",
    "\n",
    "full_pipeline = ColumnTransformer([ \n",
    "                (\"num\", num_pipeline, num_attribs), \n",
    "                (\"cat\", cat_pipeline, cat_attribs),\n",
    "            ])\n",
    "\n",
    "churn_prepared = full_pipeline.fit_transform(churn) \n",
    "\n",
    "print(churn_prepared.shape)\n",
    "\n",
    "cdata_X = churn_prepared\n",
    "cdata_Y = churn_labels"
   ]
  },
  {
   "cell_type": "code",
   "execution_count": 9,
   "metadata": {
    "scrolled": true
   },
   "outputs": [
    {
     "name": "stdout",
     "output_type": "stream",
     "text": [
      "<class 'pandas.core.frame.DataFrame'>\n",
      "Int64Index: 10000 entries, 1 to 10000\n",
      "Data columns (total 11 columns):\n",
      "Geography          10000 non-null object\n",
      "Gender             10000 non-null object\n",
      "CustomerId         10000 non-null int64\n",
      "CreditScore        10000 non-null int64\n",
      "Age                10000 non-null int64\n",
      "Tenure             10000 non-null int64\n",
      "Balance            10000 non-null float64\n",
      "NumOfProducts      10000 non-null int64\n",
      "HasCrCard          10000 non-null int64\n",
      "IsActiveMember     10000 non-null int64\n",
      "EstimatedSalary    10000 non-null float64\n",
      "dtypes: float64(2), int64(7), object(2)\n",
      "memory usage: 937.5+ KB\n"
     ]
    }
   ],
   "source": [
    "churn.info()"
   ]
  },
  {
   "cell_type": "code",
   "execution_count": 10,
   "metadata": {},
   "outputs": [
    {
     "name": "stdout",
     "output_type": "stream",
     "text": [
      "(8000, 14) (2000, 14)\n",
      "(8000,) (2000,)\n"
     ]
    }
   ],
   "source": [
    "train_X, test_X, train_Y, test_Y = train_test_split(cdata_X, cdata_Y, test_size=0.2, random_state=42)\n",
    "print(train_X.shape, test_X.shape)\n",
    "print(train_Y.shape, test_Y.shape)"
   ]
  },
  {
   "cell_type": "code",
   "execution_count": 11,
   "metadata": {},
   "outputs": [],
   "source": [
    "lin_reg = LinearRegression()\n",
    "lin_reg.fit(train_X, train_Y)\n",
    "churn_predict = lin_reg.predict(train_X)"
   ]
  },
  {
   "cell_type": "code",
   "execution_count": 12,
   "metadata": {},
   "outputs": [
    {
     "name": "stdout",
     "output_type": "stream",
     "text": [
      "예측 :  [-0.03640617  0.23971688  0.08761727  0.18527352  0.43161141]\n",
      "라벨 :  [0, 0, 1, 1, 1]\n"
     ]
    }
   ],
   "source": [
    "some_data = train_X[:5]\n",
    "some_labels = train_Y[:5]\n",
    "\n",
    "print(\"예측 : \",lin_reg.predict(some_data))\n",
    "print(\"라벨 : \",list(some_labels))"
   ]
  },
  {
   "cell_type": "code",
   "execution_count": 13,
   "metadata": {},
   "outputs": [
    {
     "name": "stdout",
     "output_type": "stream",
     "text": [
      "RMSE(훈련) :  0.3727433763055691\n"
     ]
    }
   ],
   "source": [
    "lin_mse = mean_squared_error(train_Y, churn_predict)\n",
    "lin_rmse = np.sqrt(lin_mse)\n",
    "print(\"RMSE(훈련) : \",lin_rmse)"
   ]
  },
  {
   "cell_type": "code",
   "execution_count": 14,
   "metadata": {},
   "outputs": [],
   "source": [
    "lin_reg = LinearRegression()\n",
    "lin_reg.fit(test_X, test_Y)\n",
    "churn_predict = lin_reg.predict(test_X)"
   ]
  },
  {
   "cell_type": "code",
   "execution_count": 15,
   "metadata": {},
   "outputs": [
    {
     "name": "stdout",
     "output_type": "stream",
     "text": [
      "예측 :  [0.22689551 0.09798926 0.32064551 0.40658301 0.07064551]\n",
      "라벨 :  [0, 0, 0, 0, 0]\n"
     ]
    }
   ],
   "source": [
    "some_data = test_X[:5]\n",
    "some_labels = test_Y[:5]\n",
    "\n",
    "print(\"예측 : \",lin_reg.predict(some_data))\n",
    "print(\"라벨 : \",list(some_labels))"
   ]
  },
  {
   "cell_type": "code",
   "execution_count": 16,
   "metadata": {},
   "outputs": [
    {
     "name": "stdout",
     "output_type": "stream",
     "text": [
      "RMSE(테스트) :  0.36530560123008954\n"
     ]
    }
   ],
   "source": [
    "from sklearn.metrics import mean_squared_error\n",
    "lin_mse = mean_squared_error(test_Y, churn_predict)\n",
    "lin_rmse = np.sqrt(lin_mse)\n",
    "print(\"RMSE(테스트) : \",lin_rmse)"
   ]
  },
  {
   "cell_type": "code",
   "execution_count": 17,
   "metadata": {},
   "outputs": [],
   "source": [
    "# 선형회귀 교차 검증\n",
    "scores = cross_val_score(lin_reg, train_X, train_Y, scoring=\"neg_mean_squared_error\", cv=10)\n",
    "rmse_scores = np.sqrt(-scores)"
   ]
  },
  {
   "cell_type": "code",
   "execution_count": 18,
   "metadata": {},
   "outputs": [
    {
     "name": "stdout",
     "output_type": "stream",
     "text": [
      "점수 :  [0.37112771 0.37347428 0.38831748 0.37933653 0.37066135 0.34958235\n",
      " 0.3723065  0.39391992 0.37442067 0.359327  ]\n",
      "평균 :  0.37324737714748374\n",
      "표준 편차 :  0.01207826212633537\n"
     ]
    }
   ],
   "source": [
    "def display_scores(scores):\n",
    "    print(\"점수 : \", scores)\n",
    "    print(\"평균 : \", scores.mean())\n",
    "    print(\"표준 편차 : \", scores.std())\n",
    "    \n",
    "display_scores(rmse_scores)"
   ]
  },
  {
   "cell_type": "code",
   "execution_count": 19,
   "metadata": {},
   "outputs": [],
   "source": [
    "def cross_scores_clf(data, label, model):\n",
    "    scores_clf = cross_val_score(model, data, label, cv=10, scoring=\"accuracy\")\n",
    "    \n",
    "    print(\"점수 : \", scores_clf)\n",
    "    print(\"평균 : \", scores_clf.mean())\n",
    "    print(\"표준 편차 : \", scores_clf.std())"
   ]
  },
  {
   "cell_type": "code",
   "execution_count": 35,
   "metadata": {},
   "outputs": [
    {
     "name": "stderr",
     "output_type": "stream",
     "text": [
      "C:\\Users\\newxe\\Anaconda3\\lib\\site-packages\\sklearn\\ensemble\\forest.py:245: FutureWarning: The default value of n_estimators will change from 10 in version 0.20 to 100 in 0.22.\n",
      "  \"10 in version 0.20 to 100 in 0.22.\", FutureWarning)\n"
     ]
    },
    {
     "name": "stdout",
     "output_type": "stream",
     "text": [
      "점수 :  0.999875\n",
      "점수 :  0.8708425780035799\n"
     ]
    }
   ],
   "source": [
    "forest_clf = RandomForestClassifier(n_estimators = 100, random_state=42, \n",
    "                                    n_jobs=-1, max_features=12)\n",
    "forest_clf.fit(train_X, train_Y) \n",
    "r_model = forest_clf\n",
    "f_data = r_model.predict(train_X)\n",
    "\n",
    "forest_reg = RandomForestRegressor()\n",
    "forest_reg.fit(train_X,train_Y)\n",
    "f_predictions = forest_reg.predict(train_X)\n",
    "forest_mse = mean_squared_error(train_Y, f_data)\n",
    "forest_rmse = np.sqrt(forest_mse)\n",
    "print(\"점수 : \", forest_clf.score(train_X,train_Y))\n",
    "\n",
    "print(\"점수 : \", forest_reg.score(train_X,train_Y))"
   ]
  },
  {
   "cell_type": "code",
   "execution_count": 26,
   "metadata": {
    "scrolled": false
   },
   "outputs": [
    {
     "name": "stdout",
     "output_type": "stream",
     "text": [
      "====== 학습 데이터 ======\n",
      "예측 :  [0 0 1 1 1]\n",
      "레이블 :  [0, 0, 1, 1, 1]\n",
      "\n",
      "\n",
      "정확도 :  0.999875\n",
      "정밀도 :  0.9993920972644377\n",
      "재현율 :  1.0\n",
      "F1 Score :  0.9996959562176954\n",
      "\n",
      "\n",
      "점수 :  [0.85642946 0.84519351 0.85268414 0.85393258 0.8639201  0.86357947\n",
      " 0.8660826  0.84230288 0.85356696 0.84605757]\n",
      "평균 :  0.8543749287108261\n",
      "표준 편차 :  0.007874282465989054\n"
     ]
    }
   ],
   "source": [
    "print(\"====== 학습 데이터 ======\")\n",
    "print(\"예측 : \", f_data[:5])\n",
    "print(\"레이블 : \", list(train_Y[:5]))\n",
    "\n",
    "print(\"\\n\")\n",
    "\n",
    "print(\"정확도 : \", accuracy_score(train_Y, f_data))\n",
    "print(\"정밀도 : \", precision_score(train_Y, f_data))\n",
    "print(\"재현율 : \", recall_score(train_Y, f_data))\n",
    "print(\"F1 Score : \", f1_score(train_Y, f_data))\n",
    "\n",
    "print(\"\\n\")\n",
    "\n",
    "cross_scores_clf(train_X,f_data,r_model)"
   ]
  },
  {
   "cell_type": "code",
   "execution_count": 37,
   "metadata": {},
   "outputs": [],
   "source": [
    "f2_data = r_model.predict(test_X)"
   ]
  },
  {
   "cell_type": "code",
   "execution_count": 38,
   "metadata": {},
   "outputs": [
    {
     "name": "stdout",
     "output_type": "stream",
     "text": [
      "====== 테스트 데이터 ======\n",
      "예측 :  [0 0 0 0 0]\n",
      "레이블 :  [0, 0, 0, 0, 0]\n",
      "\n",
      "\n",
      "정확도 :  0.863\n",
      "정밀도 :  0.7195571955719557\n",
      "재현율 :  0.4961832061068702\n",
      "F1 Score :  0.5873493975903614\n",
      "\n",
      "\n",
      "점수 :  0.863\n",
      "점수 :  0.27347118443324436\n"
     ]
    }
   ],
   "source": [
    "print(\"====== 테스트 데이터 ======\")\n",
    "print(\"예측 : \", f2_data[:5])\n",
    "print(\"레이블 : \", list(test_Y[:5]))\n",
    "\n",
    "print(\"\\n\")\n",
    "\n",
    "print(\"정확도 : \", accuracy_score(test_Y, f2_data))\n",
    "print(\"정밀도 : \", precision_score(test_Y, f2_data))\n",
    "print(\"재현율 : \", recall_score(test_Y, f2_data))\n",
    "print(\"F1 Score : \", f1_score(test_Y, f2_data))\n",
    "\n",
    "print(\"\\n\")\n",
    "\n",
    "\n",
    "print(\"점수 : \", forest_clf.score(test_X,test_Y))\n",
    "\n",
    "print(\"점수 : \", forest_reg.score(test_X,test_Y))"
   ]
  },
  {
   "cell_type": "code",
   "execution_count": 40,
   "metadata": {},
   "outputs": [
    {
     "name": "stderr",
     "output_type": "stream",
     "text": [
      "C:\\Users\\newxe\\Anaconda3\\lib\\site-packages\\sklearn\\svm\\base.py:929: ConvergenceWarning: Liblinear failed to converge, increase the number of iterations.\n",
      "  \"the number of iterations.\", ConvergenceWarning)\n"
     ]
    },
    {
     "data": {
      "text/plain": [
       "Pipeline(memory=None,\n",
       "         steps=[('scaler',\n",
       "                 StandardScaler(copy=True, with_mean=True, with_std=True)),\n",
       "                ('linear_svc',\n",
       "                 LinearSVC(C=100, class_weight=None, dual=True,\n",
       "                           fit_intercept=True, intercept_scaling=1,\n",
       "                           loss='hinge', max_iter=1000, multi_class='ovr',\n",
       "                           penalty='l2', random_state=42, tol=0.0001,\n",
       "                           verbose=0))],\n",
       "         verbose=False)"
      ]
     },
     "execution_count": 40,
     "metadata": {},
     "output_type": "execute_result"
    }
   ],
   "source": [
    "svm_clf = Pipeline([\n",
    "    (\"scaler\",StandardScaler()),\n",
    "    (\"linear_svc\",LinearSVC(C=100,loss=\"hinge\",random_state=42)),\n",
    "])\n",
    "\n",
    "svm_clf.fit(train_X,train_Y)"
   ]
  },
  {
   "cell_type": "code",
   "execution_count": 41,
   "metadata": {},
   "outputs": [],
   "source": [
    "svm_train = svm_clf.predict(train_X)\n",
    "svm_test = svm_clf.predict(test_X)"
   ]
  },
  {
   "cell_type": "code",
   "execution_count": 42,
   "metadata": {},
   "outputs": [
    {
     "name": "stdout",
     "output_type": "stream",
     "text": [
      "====== 학습 데이터 ======\n",
      "예측 :  [0 0 0 0 0]\n",
      "레이블 :  [0, 0, 1, 1, 1]\n",
      "\n",
      "\n",
      "정확도 :  0.79725\n",
      "정밀도 :  0.5662650602409639\n",
      "재현율 :  0.057177615571776155\n",
      "F1 Score :  0.10386740331491713\n",
      "\n",
      "\n",
      "점수 :  [0.98751561 0.98626717 0.99126092 0.98252185 0.985      0.97875\n",
      " 0.98498123 0.98748436 0.98998748 0.98873592]\n",
      "평균 :  0.9862504529303953\n",
      "표준 편차 :  0.003488624855736379\n",
      "점수 :  0.79725\n"
     ]
    }
   ],
   "source": [
    "print(\"====== 학습 데이터 ======\")\n",
    "print(\"예측 : \", svm_train[:5])\n",
    "print(\"레이블 : \", list(train_Y[:5]))\n",
    "\n",
    "print(\"\\n\")\n",
    "\n",
    "print(\"정확도 : \", accuracy_score(train_Y, svm_train))\n",
    "print(\"정밀도 : \", precision_score(train_Y, svm_train))\n",
    "print(\"재현율 : \", recall_score(train_Y, svm_train))\n",
    "print(\"F1 Score : \", f1_score(train_Y, svm_train))\n",
    "\n",
    "print(\"\\n\")\n",
    "\n",
    "cross_scores_clf(train_X,svm_train,r_model)"
   ]
  },
  {
   "cell_type": "code",
   "execution_count": 43,
   "metadata": {},
   "outputs": [
    {
     "name": "stdout",
     "output_type": "stream",
     "text": [
      "====== 테스트 데이터 ======\n",
      "예측 :  [0 0 0 0 0]\n",
      "레이블 :  [0, 0, 0, 0, 0]\n",
      "\n",
      "\n",
      "정확도 :  0.8075\n",
      "정밀도 :  0.5909090909090909\n",
      "재현율 :  0.06615776081424936\n",
      "F1 Score :  0.11899313501144164\n",
      "\n",
      "\n",
      "점수 :  0.8075\n"
     ]
    }
   ],
   "source": [
    "print(\"====== 테스트 데이터 ======\")\n",
    "print(\"예측 : \", svm_test[:5])\n",
    "print(\"레이블 : \", list(test_Y[:5]))\n",
    "\n",
    "print(\"\\n\")\n",
    "\n",
    "print(\"정확도 : \", accuracy_score(test_Y, svm_test))\n",
    "print(\"정밀도 : \", precision_score(test_Y, svm_test))\n",
    "print(\"재현율 : \", recall_score(test_Y, svm_test))\n",
    "print(\"F1 Score : \", f1_score(test_Y, svm_test))\n",
    "\n",
    "print(\"\\n\")"
   ]
  },
  {
   "cell_type": "code",
   "execution_count": null,
   "metadata": {},
   "outputs": [],
   "source": [
    "# ploynomialFeatures 변환기\n",
    "polynomial_svm_clf = Pipeline([\n",
    "    (\"poly_features\",PolynomialFeatures(degree=3)),\n",
    "    (\"scaler\",StandardScaler()),\n",
    "    (\"svm_clf\",LinearSVC(C=10, loss=\"hinge\"))\n",
    "])\n",
    "\n",
    "polynomial_svm_clf.fit(train_X,train_Y)"
   ]
  },
  {
   "cell_type": "code",
   "execution_count": null,
   "metadata": {},
   "outputs": [],
   "source": [
    "poly_svm_train = polynomial_svm_clf.predict(train_X)\n",
    "poly_svm_test = polynomial_svm_clf.predict(test_X)"
   ]
  },
  {
   "cell_type": "code",
   "execution_count": null,
   "metadata": {},
   "outputs": [],
   "source": [
    "print(\"====== 학습 데이터 ======\")\n",
    "print(\"예측 : \", poly_svm_train[:5])\n",
    "print(\"레이블 : \", list(train_Y[:5]))\n",
    "\n",
    "print(\"\\n\")\n",
    "\n",
    "print(\"정확도 : \", accuracy_score(train_Y, poly_svm_train))\n",
    "print(\"정밀도 : \", precision_score(train_Y, poly_svm_train))\n",
    "print(\"재현율 : \", recall_score(train_Y, poly_svm_train))\n",
    "print(\"F1 Score : \", f1_score(train_Y, poly_svm_train))\n",
    "\n",
    "print(\"\\n\")\n",
    "\n",
    "cross_scores_clf(train_X,poly_svm_train,r_model)"
   ]
  },
  {
   "cell_type": "code",
   "execution_count": null,
   "metadata": {},
   "outputs": [],
   "source": [
    "print(\"====== 테스트 데이터 ======\")\n",
    "print(\"예측 : \", poly_svm_test[:5])\n",
    "print(\"레이블 : \", list(test_Y[:5]))\n",
    "\n",
    "print(\"\\n\")\n",
    "\n",
    "print(\"정확도 : \", accuracy_score(test_Y, poly_svm_test))\n",
    "print(\"정밀도 : \", precision_score(test_Y, poly_svm_test))\n",
    "print(\"재현율 : \", recall_score(test_Y, poly_svm_test))\n",
    "print(\"F1 Score : \", f1_score(test_Y, poly_svm_test))\n",
    "\n",
    "print(\"\\n\")"
   ]
  },
  {
   "cell_type": "code",
   "execution_count": null,
   "metadata": {},
   "outputs": [],
   "source": []
  }
 ],
 "metadata": {
  "kernelspec": {
   "display_name": "Python 3",
   "language": "python",
   "name": "python3"
  },
  "language_info": {
   "codemirror_mode": {
    "name": "ipython",
    "version": 3
   },
   "file_extension": ".py",
   "mimetype": "text/x-python",
   "name": "python",
   "nbconvert_exporter": "python",
   "pygments_lexer": "ipython3",
   "version": "3.7.4"
  }
 },
 "nbformat": 4,
 "nbformat_minor": 2
}
