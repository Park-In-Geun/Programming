{
  "nbformat": 4,
  "nbformat_minor": 0,
  "metadata": {
    "colab": {
      "name": "lab_validation_problemset_20145128_박인근.ipynb",
      "provenance": [],
      "collapsed_sections": []
    },
    "kernelspec": {
      "display_name": "Python 3",
      "language": "python",
      "name": "python3"
    },
    "language_info": {
      "codemirror_mode": {
        "name": "ipython",
        "version": 3
      },
      "file_extension": ".py",
      "mimetype": "text/x-python",
      "name": "python",
      "nbconvert_exporter": "python",
      "pygments_lexer": "ipython3",
      "version": "3.7.4"
    },
    "toc": {
      "base_numbering": 1,
      "nav_menu": {},
      "number_sections": true,
      "sideBar": true,
      "skip_h1_title": false,
      "title_cell": "Table of Contents",
      "title_sidebar": "Contents",
      "toc_cell": false,
      "toc_position": {},
      "toc_section_display": true,
      "toc_window_display": false
    }
  },
  "cells": [
    {
      "cell_type": "markdown",
      "metadata": {
        "id": "OkKN9Knk4jc0"
      },
      "source": [
        "# Part 1: Classifying Fashion-MNIST\n",
        "\n",
        "* 이번 실습에서는 지난 시간과 거의 유사한 작업을 Fashion-MNIST dataset에 대해서 수행하겠습니다\n",
        "\n",
        "* Fashion-MNIST 는 28x28 흑백으로 된 의류 image입니다\n",
        "* 숫자를 표현한 MNIST 보다는 더 복잡한 image가 되어, NN의 성능을 시험해보기 조금 더 난해한 dataset 입니다 (물론 지금 시대에는 여전히 쉬운 작업입니다)\n",
        "\n",
        "* dataset에 대한 그림은 아래와 같습니다\n",
        "\n",
        "<img src='assets/fashion-mnist-sprite.png' width=500px>\n",
        "\n",
        "* 작업은 여러분이 처음부터 끝까지 코딩을 하시면 됩니다\n",
        "* 전체적인 흐름은 지난 주 숙제와 동일하기 때문에 (결국 10개의 의상 종류로 분류합니다) 지난 주 숙제 solution이나 본인이 짠 부분을 대부분 가져와서 해보시면 됩니다.\n",
        "\n",
        "* 아래는 dataset을 준비하는 과정입니다"
      ]
    },
    {
      "cell_type": "code",
      "metadata": {
        "id": "lbu0AN7G4jc1"
      },
      "source": [
        "import torch\n",
        "from torchvision import datasets, transforms\n",
        "import helper\n",
        "\n",
        "# Define a transform to normalize the data\n",
        "transform = transforms.Compose([transforms.ToTensor(),\n",
        "                                transforms.Normalize((0.5,), (0.5,))])\n",
        "# Download and load the training data\n",
        "trainset = datasets.FashionMNIST('~/.pytorch/F_MNIST_data/', download=True, train=True, transform=transform)\n",
        "trainloader = torch.utils.data.DataLoader(trainset, batch_size=64, shuffle=True)\n",
        "\n",
        "# Download and load the test data\n",
        "testset = datasets.FashionMNIST('~/.pytorch/F_MNIST_data/', download=True, train=False, transform=transform)\n",
        "testloader = torch.utils.data.DataLoader(testset, batch_size=64, shuffle=True)"
      ],
      "execution_count": null,
      "outputs": []
    },
    {
      "cell_type": "markdown",
      "metadata": {
        "id": "yPqTuays4jc7"
      },
      "source": [
        "* 아래 명령으로 이미지 중에 한개를 살펴봐서 준비가 되었는지 확인해 봅시다"
      ]
    },
    {
      "cell_type": "code",
      "metadata": {
        "id": "XdBR-PPE4jc-",
        "scrolled": true,
        "outputId": "5d34129d-8a91-4715-c6c8-662ae796687b"
      },
      "source": [
        "image, label = next(iter(trainloader))\n",
        "helper.imshow(image[0,:]);"
      ],
      "execution_count": null,
      "outputs": [
        {
          "output_type": "display_data",
          "data": {
            "image/png": "[encoded data removed]",
            "text/plain": [
              "<Figure size 432x288 with 1 Axes>"
            ]
          },
          "metadata": {
            "tags": [],
            "needs_background": "light"
          }
        }
      ]
    },
    {
      "cell_type": "markdown",
      "metadata": {
        "id": "jx275rlE4jdE"
      },
      "source": [
        "### Exercise 1 [5 points]:\n",
        "\n",
        "* 이미지가 28x28인 점을 고려하여 지난주에 벡터로 변환하는 작업을 수행하고\n",
        "* fc1,...,fc4 까지 linear layer를 만드시고\n",
        "* 최종 output layer fc4는 10개 분류 작업을 할 수 있도록 구성\n",
        "  * [주의] 여기서 최종적으로 아래 코드를 통해서 분류 결과를 표출을 통일하기 위해서 네트워크 최종단에 즉 fc4 layer에 F.log_softmax 처리를 하여 출력\n",
        "  * 나머지 layer는 F.relu가 잘 동작합니다 (다른 activation사용해도 무방함)\n",
        "* 각 hidden layer의 노드 수는 (width)는 각자 정하시면 됩니다 \n",
        "\n",
        "* Cost function도 정하시고, 출력이 log_softmax 임을 고려하여 작성\n",
        "* autograd, optimizer를 사용하여 training 수행 \n",
        "* fc1 는 256의 크기로 구성\n",
        "* fc2 는 128의 크기로 구성\n",
        "* fc3 는 64의 크기로 구성\n",
        "* epoch수는 5"
      ]
    },
    {
      "cell_type": "code",
      "metadata": {
        "id": "SX23-XuE4jdG"
      },
      "source": [
        "from torch import nn, optim\n",
        "import torch.nn.functional as F\n",
        "\n",
        "class Classifier(nn.Module):\n",
        "    # TODO: 네트워크를 완성하세요 (forward 함수 정의하는것 잊지 마시고요)\n",
        "    def __init__(self):\n",
        "        super().__init__()\n",
        "        \n",
        "        self.fc1 = nn.Linear(784, 256) # 28x28 = 784 , 첫 번째 hidden laye 256 \n",
        "        self.fc2 = nn.Linear(256, 128) # 두 번째 hidden layer 128 , 계산을 위해 이전 레이어의 크기를 row로 이용\n",
        "        self.fc3 = nn.Linear(128,64) # 세 번째 hidden layer 64 , 계산을 위해 이전 레이어의 크기를 row로 이용\n",
        "        self.fc4 = nn.Linear(64,10) # Output layer는 10 유닛, 계산을 위해 이전 레이어의 크기(64)를 row로 이용\n",
        "        \n",
        "    \n",
        "    def forward(self, x):\n",
        "        ''' Forward pass through the network, returns the output logits '''\n",
        "        x = x.view(x.shape[0], -1) #플레트닝작업 이미지를 변환\n",
        "        \n",
        "        x = F.relu(self.fc1(x)) # 첫 번째 hidden layer에 ReLU 적용\n",
        "        x = F.relu(self.fc2(x)) # 두 번째 hidden layer에 ReLU 적용\n",
        "        x = F.relu(self.fc3(x)) # 세 번째 hidden layer에 ReLU 적용\n",
        "        \n",
        "        x = F.log_softmax(self.fc4(x), dim = 1) # output layer에 log_softmax function 적용\n",
        "        \n",
        "        return x\n",
        "    \n",
        "model = Classifier()\n",
        "    ###############"
      ],
      "execution_count": null,
      "outputs": []
    },
    {
      "cell_type": "code",
      "metadata": {
        "id": "Rc3B02c04jdL",
        "outputId": "4e897b23-3304-4b04-dafb-baef0430c4aa"
      },
      "source": [
        "# TODO: 네트워크를 training 하세요 (epoch는 5번)\n",
        "criterion = nn.NLLLoss()\n",
        "optimizer = optim.Adam(model.parameters(), lr = 0.003) # 1차적으로 많이 사용하는 Adam 사용\n",
        "\n",
        "epochs = 5\n",
        "\n",
        "for e in range(epochs):\n",
        "    running_loss = 0\n",
        "    for images, labels in trainloader:\n",
        "        log_ps = model(images)\n",
        "        loss = criterion(log_ps, labels)\n",
        "        \n",
        "       \n",
        "        optimizer.zero_grad() # 새로운 batch에 대한 새 gradient 값을 계산하기위해 gradient 값을 초기화\n",
        "        loss.backward() # gredient를 구하기위해 backward 실행\n",
        "        optimizer.step() # optimizer 를 update (weight 들이 업데이트됨)\n",
        "\n",
        "        running_loss += loss.item() # loss를 epochs 마다 더해줌\n",
        "    else:\n",
        "        print(f\"Training loss: {running_loss/len(trainloader)}\")\n"
      ],
      "execution_count": null,
      "outputs": [
        {
          "output_type": "stream",
          "text": [
            "Training loss: 0.5147757998693472\n",
            "Training loss: 0.3884917194845834\n",
            "Training loss: 0.3565565449580836\n",
            "Training loss: 0.33258467019875165\n",
            "Training loss: 0.316760230793564\n"
          ],
          "name": "stdout"
        }
      ]
    },
    {
      "cell_type": "code",
      "metadata": {
        "id": "xLLXn_6p4jdP",
        "outputId": "d9d79083-253a-483a-de0d-b4aacabd700c"
      },
      "source": [
        "%matplotlib inline\n",
        "%config InlineBackend.figure_format = 'retina'\n",
        "\n",
        "import helper\n",
        "\n",
        "# Test out your network!\n",
        "dataiter = iter(testloader)\n",
        "images, labels = dataiter.next()\n",
        "img = images[1]\n",
        "\n",
        "# log softmax 값을 softmax로 변환하여 확률값을 저장\n",
        "ps = torch.exp(model(img)) #확률값을 보고 싶은데 로그 값이기 때문에 사용\n",
        "\n",
        "# Plot the image and probabilities\n",
        "helper.view_classify(img, ps, version='Fashion')"
      ],
      "execution_count": null,
      "outputs": [
        {
          "output_type": "display_data",
          "data": {
            "image/png": "[encoded data removed]",
            "text/plain": [
              "<Figure size 432x648 with 2 Axes>"
            ]
          },
          "metadata": {
            "tags": [],
            "image/png": {
              "height": 216,
              "width": 424
            },
            "needs_background": "light"
          }
        }
      ]
    },
    {
      "cell_type": "markdown",
      "metadata": {
        "id": "VQjEaZu64jdU"
      },
      "source": [
        "# Part 2: Inference and Validation\n",
        "\n",
        "* 지금까지는 network를 training하는 방법에 대해서 알아보았습니다\n",
        "* Training 된 network를 활용하여 예측 (prediction)을 하는 것을 ML 용어로 inference라고 합니다\n",
        "* Training된 network를 새로운 데이터에 대해서도 좋은 성능을 갖게하는 것을 generalization 이라고 합니다 \n",
        "* 하지만, neural network (또는 모든 ML)은  training 된 데이터에 너무 최적화되어, 새로운 데이터에대해서 성능이 떨어지는 (generalization 이 안되는) 문제가 발생합니다. 이런 현상을  **overfitting** 이라고 합니다\n",
        "* **Generalization** 이 잘되어서 **overfitting** 안일어났는지 확인하는 작업을 **validation** set으로 data를 분리하여 수행합니다\n",
        "* Overfitting이 일어나지 않도록 처리하는 여러 기법을 **regulariztion** 이라고 하며, 대표적으로 **dropout**과 같은것이 있습니다\n",
        "* 이번 실습에서는 **validation**에 대해서 알아보겠습니다\n",
        "\n",
        "* dataset 은 torchvision을 통해서 load하겠습니다\n",
        "* Torchvision에 대한 자세한 기능은 차차 배우기로 학고, 우선은 테스트 세트를 load하기 위해서 `train=False` 로 설정합니다\n",
        "\n",
        "```python\n",
        "testset = datasets.FashionMNIST('~/.pytorch/F_MNIST_data/', download=True, train=False, transform=transform)\n",
        "```\n",
        "\n",
        "* test set은 trainging set과 비슷한 구조를 갖습니다\n",
        "* 보통 전체 data의 10-20%를 테스트를 위해서 남겨둡니다"
      ]
    },
    {
      "cell_type": "markdown",
      "metadata": {
        "id": "Cww8j9Ma4jdV"
      },
      "source": [
        "* 본 작업에 목적은 training set에 포함하지 않은 data에 대해서 성능을 측정하는 것입니다\n",
        "* 여기서 성능은 개발자에 의해서 용도에 맞게 설정합니다 \n",
        "* 본 과제에서는 정확도 관점에서 성능을 측정학겠습니다\n",
        "  - 즉 분류를 성공과 실패로 보고 성공의 비율을 측정합니다\n",
        "* 기타 성능 측정을 위한 방법은 [precision and recall](https://en.wikipedia.org/wiki/Precision_and_recall#Definition_(classification_context)) 과 top-5 error rate 등이 있습니다\n",
        "* 시작으로, 한개에 batch에 대한 forward pass를 실행합니다"
      ]
    },
    {
      "cell_type": "code",
      "metadata": {
        "id": "aSRkwEoN4jdW",
        "outputId": "75332fb9-5c04-43b6-deb5-2aa4e3ae0e84"
      },
      "source": [
        "model = Classifier()\n",
        "\n",
        "images, labels = next(iter(testloader))\n",
        "# Get the class probabilities\n",
        "log_ps = model(images)\n",
        "ps = torch.exp(log_ps)\n",
        "# Make sure the shape is appropriate, we should get 10 class probabilities for 64 examples\n",
        "print(ps.shape)"
      ],
      "execution_count": null,
      "outputs": [
        {
          "output_type": "stream",
          "text": [
            "torch.Size([64, 10])\n"
          ],
          "name": "stdout"
        }
      ]
    },
    {
      "cell_type": "code",
      "metadata": {
        "id": "SG35jmyV9jRq",
        "outputId": "7c2d3c43-2296-4759-ff95-f80543a93b77"
      },
      "source": [
        "ps[2,:]"
      ],
      "execution_count": null,
      "outputs": [
        {
          "output_type": "execute_result",
          "data": {
            "text/plain": [
              "tensor([0.0905, 0.1038, 0.1011, 0.0898, 0.1072, 0.0968, 0.0986, 0.1003, 0.1090,\n",
              "        0.1028], grad_fn=<SliceBackward>)"
            ]
          },
          "metadata": {
            "tags": []
          },
          "execution_count": 28
        }
      ]
    },
    {
      "cell_type": "code",
      "metadata": {
        "id": "UQ2pXQ3B9jRr",
        "outputId": "daa5878a-7ff8-460b-854f-c021d24ddb4a"
      },
      "source": [
        "ps[2,:].topk(1)"
      ],
      "execution_count": null,
      "outputs": [
        {
          "output_type": "execute_result",
          "data": {
            "text/plain": [
              "torch.return_types.topk(\n",
              "values=tensor([0.1090], grad_fn=<TopkBackward>),\n",
              "indices=tensor([8]))"
            ]
          },
          "metadata": {
            "tags": []
          },
          "execution_count": 29
        }
      ]
    },
    {
      "cell_type": "markdown",
      "metadata": {
        "id": "hM3zOAOw4jda"
      },
      "source": [
        "* 출력은 각 classification 항목에 대한 확률 분포로 출력됩니다\n",
        "* `ps.topk` method로 $k$개의 활률 값이 가장 높은 value와 index를 tuple로 받습니다\n",
        "* 가장 높은 가능성으로 분류를 하고자하니, `ps.topk(1)`를 사용합니다\n",
        "* 예를 들어서 가장 높은 value가 5번째이면 index 4를 받습니다"
      ]
    },
    {
      "cell_type": "code",
      "metadata": {
        "id": "guW7X2n29jRt",
        "outputId": "e1ab77d8-a7c8-4ba5-d64e-603c18edf16e"
      },
      "source": [
        "## 예시\n",
        "a = torch.tensor([[2.2, 4.1, 3.6], [7.2, 4.3, 0.5]])\n",
        "a.topk(2, dim=1) "
      ],
      "execution_count": null,
      "outputs": [
        {
          "output_type": "execute_result",
          "data": {
            "text/plain": [
              "torch.return_types.topk(\n",
              "values=tensor([[4.1000, 3.6000],\n",
              "        [7.2000, 4.3000]]),\n",
              "indices=tensor([[1, 2],\n",
              "        [0, 1]]))"
            ]
          },
          "metadata": {
            "tags": []
          },
          "execution_count": 14
        }
      ]
    },
    {
      "cell_type": "code",
      "metadata": {
        "id": "XGkpouNk4jda",
        "outputId": "dda43226-0fe6-40d7-849a-86d7f440005e"
      },
      "source": [
        "top_p, top_class = ps.topk(1, dim=1)\n",
        "# Look at the most likely classes for the first 10 examples\n",
        "print(top_class[:10,:])\n",
        "top_class.shape"
      ],
      "execution_count": null,
      "outputs": [
        {
          "output_type": "stream",
          "text": [
            "tensor([[8],\n",
            "        [8],\n",
            "        [8],\n",
            "        [8],\n",
            "        [8],\n",
            "        [8],\n",
            "        [8],\n",
            "        [8],\n",
            "        [8],\n",
            "        [8]])\n"
          ],
          "name": "stdout"
        },
        {
          "output_type": "execute_result",
          "data": {
            "text/plain": [
              "torch.Size([64, 1])"
            ]
          },
          "metadata": {
            "tags": []
          },
          "execution_count": 30
        }
      ]
    },
    {
      "cell_type": "markdown",
      "metadata": {
        "id": "5KvRJO4N4jdd"
      },
      "source": [
        "* 지금까지 네트워크에서 출력한 확률분포에서 가장 높은 확률값의 index를 64개 찾았습니다\n",
        "* 이제 `top_class`와 `labels`를 비교하여 몇개를 맞췄는지 확인을 해야합니다\n",
        "* 차원이 맞는 tensor 간에 `==`를 해서 비교합니다 (테스트 해보세요!)\n",
        "* 다음을 실행하면 원하는 답이 나오지 않습니다\n",
        "* `top_class`와 `labels`의 shape를 비교 해보고 싶은 생각이 드셔야합니다\n",
        "```python\n",
        "equals = top_class == labels\n",
        "```\n",
        "* (참고) broadcasting으로 `==` 연산이 일어난것이며, 우리가 원하는 연산은 아닙니다 "
      ]
    },
    {
      "cell_type": "code",
      "metadata": {
        "id": "8w221GbN9jRw",
        "outputId": "391c3819-8ec5-4931-e2c7-742b96c1aa50"
      },
      "source": [
        "yh=torch.tensor([[3],[4],[5]])\n",
        "lab = torch.tensor([[1], [4], [3]])\n",
        "\n",
        "yh==lab\n",
        "\n",
        "top_class == labels.view(top_class.shape)"
      ],
      "execution_count": null,
      "outputs": [
        {
          "output_type": "execute_result",
          "data": {
            "text/plain": [
              "tensor([[0],\n",
              "        [0],\n",
              "        [0],\n",
              "        [0],\n",
              "        [0],\n",
              "        [0],\n",
              "        [0],\n",
              "        [0],\n",
              "        [0],\n",
              "        [0],\n",
              "        [0],\n",
              "        [0],\n",
              "        [0],\n",
              "        [0],\n",
              "        [0],\n",
              "        [0],\n",
              "        [0],\n",
              "        [0],\n",
              "        [0],\n",
              "        [0],\n",
              "        [0],\n",
              "        [0],\n",
              "        [0],\n",
              "        [0],\n",
              "        [0],\n",
              "        [0],\n",
              "        [0],\n",
              "        [0],\n",
              "        [0],\n",
              "        [0],\n",
              "        [0],\n",
              "        [0],\n",
              "        [0],\n",
              "        [0],\n",
              "        [1],\n",
              "        [0],\n",
              "        [0],\n",
              "        [0],\n",
              "        [0],\n",
              "        [0],\n",
              "        [0],\n",
              "        [1],\n",
              "        [0],\n",
              "        [0],\n",
              "        [0],\n",
              "        [0],\n",
              "        [0],\n",
              "        [0],\n",
              "        [0],\n",
              "        [0],\n",
              "        [1],\n",
              "        [0],\n",
              "        [0],\n",
              "        [1],\n",
              "        [0],\n",
              "        [0],\n",
              "        [0],\n",
              "        [0],\n",
              "        [0],\n",
              "        [0],\n",
              "        [0],\n",
              "        [0],\n",
              "        [0],\n",
              "        [0]], dtype=torch.uint8)"
            ]
          },
          "metadata": {
            "tags": []
          },
          "execution_count": 39
        }
      ]
    },
    {
      "cell_type": "code",
      "metadata": {
        "id": "4bpcQJMg4jde",
        "outputId": "b05d81e8-a50a-4542-b398-60e172f7d303"
      },
      "source": [
        "equals = top_class == labels.view(top_class.shape)\n",
        "top_class.shape"
      ],
      "execution_count": null,
      "outputs": [
        {
          "output_type": "execute_result",
          "data": {
            "text/plain": [
              "torch.Size([64, 1])"
            ]
          },
          "metadata": {
            "tags": []
          },
          "execution_count": 41
        }
      ]
    },
    {
      "cell_type": "markdown",
      "metadata": {
        "id": "mvf-KqlW4jdi"
      },
      "source": [
        "* 이제 분류가 성공한 비율을 찾기위해서 전체를 더하고 총수로 나누는 (평균)을 내면됩니다\n",
        "* `torch.mean`이 유용한데 \n",
        "* `torch.mean(equals)`를 실행하면\n",
        "\n",
        "```\n",
        "RuntimeError: mean is not implemented for type torch.ByteTensor\n",
        "```\n",
        "* `equals`를 float tensor로 변환하여 적용합니다\n"
      ]
    },
    {
      "cell_type": "code",
      "metadata": {
        "id": "YOmysrVS4jdi",
        "outputId": "229fe25d-fe43-404c-9629-b2f661a41076"
      },
      "source": [
        "accuracy = torch.mean(equals.type(torch.FloatTensor))\n",
        "print(f'Accuracy: {accuracy*100}%')"
      ],
      "execution_count": null,
      "outputs": [
        {
          "output_type": "stream",
          "text": [
            "Accuracy: 6.25%\n"
          ],
          "name": "stdout"
        }
      ]
    },
    {
      "cell_type": "markdown",
      "metadata": {
        "id": "mN28S6vD4jdm"
      },
      "source": [
        "* 당연히 네트워크가 training이 안되었기 때문에 값이 랜덤하게 나옵니다\n",
        "* 저는 15% 정도 나오네요\n",
        "* 이제 전체 test data (validation set)에 대한 loop를 완성하려 합니다 (위는 한 batch)\n",
        "* 아래 Exercise를 수행하는데 중요한 코드가 있습니다\n",
        "* `torch.no_grad():`는 tensor에 gradient 정보 없이 작업을 할때 사용합니다. 당연히 training이 없으니 network parameter를 업데이트할 필요가 없고, gradient 정보를 저장하는데 쓸데 없는 연산과 메모리 사용을 방지할 수 있습니다. Validation과정에서는 필수입니다! \n",
        "\n",
        "```python\n",
        "# turn off gradients\n",
        "with torch.no_grad():\n",
        "    # validation pass here\n",
        "    for images, labels in testloader:\n",
        "        ...\n",
        "```\n"
      ]
    },
    {
      "cell_type": "markdown",
      "metadata": {
        "id": "_iizJiIa4jdm"
      },
      "source": [
        "**Exercise 2 [5 points]:** \n",
        "- 아래 validation loop를 완성하세요\n",
        "  - 위에서 배운 것과 같이 testdata (testloader loop)에서 \n",
        "    1. 해당 output (`log_ps`)를 확률값 `ps` 로 변환\n",
        "    2. `ps.topk` 명령어를 사용하여 top_class 받고\n",
        "    3. `equals`에 top_class와 label를 비교 (주의할 점은 top_class와 label의 size를 맞춰줘야합니다\n",
        "    4. `accuracy`에 `equals`의 `평균값`을 `+=`를 사용하여 계속 더하세요 \n",
        "      - equals는 한개의 batch의 `성공`, `실패`를 담고있죠 (64개의 성공과 실패)\n",
        "      - 이것을 평균 (`torch.mean`) 내면 (해당 batch의 성공률이 나옵니다)\n",
        "      - 최종적으로 batch별 성공률을 모두 더해서 총 batch의 갯수로 (`len(testloader)`) 나눠서 전체 데이터에 대한 성공률을 계산하기 위한 작업입니다 "
      ]
    },
    {
      "cell_type": "code",
      "metadata": {
        "id": "fxVDkqFe4jdn",
        "outputId": "72985e99-4e01-40d0-9412-0a0e945648fb"
      },
      "source": [
        "model = Classifier()\n",
        "criterion = nn.NLLLoss()\n",
        "optimizer = optim.Adam(model.parameters(), lr=0.003)\n",
        "\n",
        "epochs = 30\n",
        "steps = 0\n",
        "\n",
        "train_losses, test_losses = [], []\n",
        "for e in range(epochs):\n",
        "    running_loss = 0\n",
        "    for images, labels in trainloader:\n",
        "    # 배치별로 반복문 돌림\n",
        "\n",
        "        # 답작성: Training 코드 \n",
        "        optimizer.zero_grad() \n",
        "        \n",
        "        log_ps = model(images)\n",
        "        loss = criterion(log_ps, labels)\n",
        "        loss.backward()\n",
        "        optimizer.step()\n",
        "        \n",
        "        #######################\n",
        "        running_loss += loss.item()\n",
        "        \n",
        "    else: #for문 다 돌리고 마지막에 수행\n",
        "        test_loss = 0\n",
        "        accuracy = 0\n",
        "        \n",
        "\n",
        "        with torch.no_grad(): # gredient 끔\n",
        "            for images, labels in testloader: \n",
        "                log_ps = model(images)\n",
        "                test_loss += criterion(log_ps, labels)\n",
        "        \n",
        "                # 답작성 (Epoch 마다 천체 testdata에 대해서 accuracy를 구합니다)\n",
        "                # 최종 값은 `accuracy` 라는 이름으로 받아야 아래 print문에 출력됩니다\n",
        "    \n",
        "                ps = torch.exp(log_ps) # 로그값을 변환\n",
        "                top_p, top_class = ps.topk(1, dim=1) # 제일큰 1개\n",
        "                equals = top_class == labels.view(top_class.shape) # 차원이 다르기 때문에 변환해서 ㅣ교한 값을 대입\n",
        "                accuracy += torch.mean(equals.type(torch.FloatTensor)) # 모든 epochs에 대한 최종적인 결과를 뽑기 위해 다 더해줌\n",
        "                \n",
        "                #######################\n",
        "                \n",
        "        train_losses.append(running_loss/len(trainloader))\n",
        "        test_losses.append(test_loss/len(testloader))\n",
        "\n",
        "        print(\"Epoch: {}/{}.. \".format(e+1, epochs),\n",
        "              \"Training Loss: {:.3f}.. \".format(running_loss/len(trainloader)),\n",
        "              \"Test Loss: {:.3f}.. \".format(test_loss/len(testloader)), #validation \n",
        "              \"Test Accuracy: {:.3f}\".format(accuracy/len(testloader)))"
      ],
      "execution_count": null,
      "outputs": [
        {
          "output_type": "stream",
          "text": [
            "Epoch: 1/30..  Training Loss: 0.519..  Test Loss: 0.422..  Test Accuracy: 0.844\n",
            "Epoch: 2/30..  Training Loss: 0.392..  Test Loss: 0.407..  Test Accuracy: 0.854\n",
            "Epoch: 3/30..  Training Loss: 0.356..  Test Loss: 0.383..  Test Accuracy: 0.861\n",
            "Epoch: 4/30..  Training Loss: 0.335..  Test Loss: 0.380..  Test Accuracy: 0.864\n",
            "Epoch: 5/30..  Training Loss: 0.315..  Test Loss: 0.385..  Test Accuracy: 0.861\n",
            "Epoch: 6/30..  Training Loss: 0.303..  Test Loss: 0.393..  Test Accuracy: 0.858\n",
            "Epoch: 7/30..  Training Loss: 0.295..  Test Loss: 0.387..  Test Accuracy: 0.864\n",
            "Epoch: 8/30..  Training Loss: 0.283..  Test Loss: 0.360..  Test Accuracy: 0.875\n",
            "Epoch: 9/30..  Training Loss: 0.276..  Test Loss: 0.380..  Test Accuracy: 0.871\n",
            "Epoch: 10/30..  Training Loss: 0.266..  Test Loss: 0.365..  Test Accuracy: 0.874\n",
            "Epoch: 11/30..  Training Loss: 0.262..  Test Loss: 0.335..  Test Accuracy: 0.882\n",
            "Epoch: 12/30..  Training Loss: 0.256..  Test Loss: 0.369..  Test Accuracy: 0.877\n",
            "Epoch: 13/30..  Training Loss: 0.250..  Test Loss: 0.370..  Test Accuracy: 0.878\n",
            "Epoch: 14/30..  Training Loss: 0.239..  Test Loss: 0.356..  Test Accuracy: 0.877\n",
            "Epoch: 15/30..  Training Loss: 0.239..  Test Loss: 0.381..  Test Accuracy: 0.876\n",
            "Epoch: 16/30..  Training Loss: 0.232..  Test Loss: 0.385..  Test Accuracy: 0.874\n",
            "Epoch: 17/30..  Training Loss: 0.229..  Test Loss: 0.387..  Test Accuracy: 0.881\n",
            "Epoch: 18/30..  Training Loss: 0.226..  Test Loss: 0.374..  Test Accuracy: 0.878\n",
            "Epoch: 19/30..  Training Loss: 0.217..  Test Loss: 0.364..  Test Accuracy: 0.883\n",
            "Epoch: 20/30..  Training Loss: 0.215..  Test Loss: 0.408..  Test Accuracy: 0.879\n",
            "Epoch: 21/30..  Training Loss: 0.217..  Test Loss: 0.417..  Test Accuracy: 0.870\n",
            "Epoch: 22/30..  Training Loss: 0.206..  Test Loss: 0.380..  Test Accuracy: 0.885\n",
            "Epoch: 23/30..  Training Loss: 0.202..  Test Loss: 0.403..  Test Accuracy: 0.878\n",
            "Epoch: 24/30..  Training Loss: 0.204..  Test Loss: 0.416..  Test Accuracy: 0.880\n",
            "Epoch: 25/30..  Training Loss: 0.204..  Test Loss: 0.409..  Test Accuracy: 0.880\n",
            "Epoch: 26/30..  Training Loss: 0.197..  Test Loss: 0.411..  Test Accuracy: 0.879\n",
            "Epoch: 27/30..  Training Loss: 0.193..  Test Loss: 0.405..  Test Accuracy: 0.884\n",
            "Epoch: 28/30..  Training Loss: 0.191..  Test Loss: 0.442..  Test Accuracy: 0.881\n",
            "Epoch: 29/30..  Training Loss: 0.185..  Test Loss: 0.405..  Test Accuracy: 0.881\n",
            "Epoch: 30/30..  Training Loss: 0.185..  Test Loss: 0.411..  Test Accuracy: 0.886\n"
          ],
          "name": "stdout"
        }
      ]
    },
    {
      "cell_type": "code",
      "metadata": {
        "id": "bnd2hzAT4jdq"
      },
      "source": [
        "%matplotlib inline\n",
        "%config InlineBackend.figure_format = 'retina'\n",
        "\n",
        "import matplotlib.pyplot as plt"
      ],
      "execution_count": null,
      "outputs": []
    },
    {
      "cell_type": "code",
      "metadata": {
        "id": "t_Mv7Nyy4jdv",
        "outputId": "a1872550-6c44-4704-d069-c507d5b1c8ed"
      },
      "source": [
        "plt.plot(train_losses, label='Training loss')\n",
        "plt.plot(test_losses, label='Validation loss')\n",
        "plt.legend(frameon=False)\n",
        "\n",
        "#가로 epoch, 세로 loss"
      ],
      "execution_count": null,
      "outputs": [
        {
          "output_type": "execute_result",
          "data": {
            "text/plain": [
              "<matplotlib.legend.Legend at 0x213d52e9588>"
            ]
          },
          "metadata": {
            "tags": []
          },
          "execution_count": 15
        },
        {
          "output_type": "display_data",
          "data": {
            "image/png": "[encoded data removed]",
            "text/plain": [
              "<Figure size 432x288 with 1 Axes>"
            ]
          },
          "metadata": {
            "tags": [],
            "image/png": {
              "height": 248,
              "width": 380
            },
            "needs_background": "light"
          }
        }
      ]
    },
    {
      "cell_type": "markdown",
      "metadata": {
        "id": "DgEtW7DL4jdx"
      },
      "source": [
        "## Overfitting\n",
        "\n",
        "* 위에서 수행한 결과를 살펴보면 overfitting 현상을 확인할 수 있습니다\n",
        "* 같지는 않지만, 아래와 같은 현상:\n",
        "\n",
        "<img src='assets/overfitting.png' width=450px>\n",
        "\n",
        "- Training loss는 점점 줄어드는 반면, validation loss는 일정 줄어들다가 다시 늘어나는 현상을 확인 할 수 있습니다. \n",
        "- 궁극적인 목적은 새로운 data에 대해서 잘 동작하는 것이기 때문에 가장 낮은 validation loss를 갖도록 하는것이 목표 입니다\n",
        "- 그래프에서 착안 할 수 있는 방법중 하나는 가장 낮아지는 epoch를 찾아서 멈추는 방법입니다. 이런 방법을 *early-stopping*이라고 합니다 \n",
        "- 실제 적용하는 practice에서는 많은 training을 수행하며, 그 중에서 가장 좋은 성능(lowest validation error)의 network을 선택합니다\n",
        "- Early stopping 이외에 매우 자주 사용되는 regularization 방법은 *dropout* 입니다\n",
        "- Dropout은 네트워크의 연결을 랜덤하게 일정 비율로 끊어버리는 방법입니다\n",
        "- Dropout이 왜 효과가 있는지는 이론 수업에서 다루도록 하겠습니다\n",
        "- Pytorch에서 dropout을 수행하는 방법은 [`nn.Dropout`](https://pytorch.org/docs/stable/nn.html#torch.nn.Dropout) module 통해서 합니다\n",
        "\n",
        "```python\n",
        "class Classifier(nn.Module):\n",
        "    def __init__(self):\n",
        "        super().__init__()\n",
        "        self.fc1 = None\n",
        "        self.fc2 = None\n",
        "        self.fc3 = None\n",
        "        self.fc4 = None\n",
        "        \n",
        "        # Dropout module with 0.2 drop probability\n",
        "        self.dropout = nn.Dropout(p=0.2)\n",
        "        \n",
        "    def forward(self, x):\n",
        "        # make sure input tensor is flattened\n",
        "        x = x.view(x.shape[0], -1)\n",
        "        \n",
        "        # Now with dropout\n",
        "        x = self.dropout(F.relu(self.fc1(x)))\n",
        "        x = self.dropout(F.relu(self.fc2(x)))\n",
        "        x = self.dropout(F.relu(self.fc3(x)))\n",
        "        \n",
        "        # output so no dropout here\n",
        "        x = F.log_softmax(self.fc4(x), dim=1)\n",
        "        \n",
        "        return x\n",
        "```\n",
        "\n",
        "* 여기서 Dropout은 training 단계에서만 사용하고, validation에서는 전체 네트워크를 사용해야 합니다 (Why?)\n",
        "* 즉, validation 과정에서는 dropout을 비활성화 해야하죠\n",
        "  - 이를 위해서 `model.eval()`을 사용합니다\n",
        "  - 즉, `model.eval()` 모드 하에서는 droupout 확률이 0으로 동작합니다   \n",
        "  - 다시 dropout를 수행할때는 `model.train()`으로 활성화 합니다\n",
        "  - 일반적으로 아래와 같이 동작하죠\n",
        "    1. Validation loop에서 gradient를 끄고, model을 evaluation mode로 설정\n",
        "    2. validation loss를 계산하고 \n",
        "    3. 다시 train mode로 변경 \n",
        "    \n",
        "```python\n",
        "# turn off gradients\n",
        "with torch.no_grad():\n",
        "    \n",
        "    # set model to evaluation mode\n",
        "    model.eval()\n",
        "    \n",
        "    # validation pass here\n",
        "    for images, labels in testloader:\n",
        "        ...\n",
        "\n",
        "# set model back to train mode\n",
        "model.train()\n",
        "```"
      ]
    },
    {
      "cell_type": "markdown",
      "metadata": {
        "id": "Txdqr7id4jdy"
      },
      "source": [
        "**Exercise 3 [5 points]:** \n",
        "\n",
        "- 아래 코드에서 dropout를 사용하기 위한 필요한 곳을 수정/채워 주세요\n",
        "- model 에 dropout 적용, model.eval, model.train 등\n",
        "- 아래 코드는 위에 적용했던 코드 Exercise 1 부분 제외한 모음입니다\n",
        "- Template이라고 생각학고 적용하시면 됩니다"
      ]
    },
    {
      "cell_type": "code",
      "metadata": {
        "id": "gteAmkL-4jdy"
      },
      "source": [
        "class Classifier(nn.Module):\n",
        "    \n",
        "    # 앞 문제에서 작성한 network에 dropout 적용\n",
        "    def __init__(self):\n",
        "        super().__init__()\n",
        "\n",
        "        self.fc1 = nn.Linear(784, 256)\n",
        "        self.fc2 = nn.Linear(256, 128)\n",
        "        self.fc3 = nn.Linear(128, 64)\n",
        "        self.fc4 = nn.Linear(64, 10)\n",
        "        \n",
        "        \n",
        "        self.dropout = nn.Dropout(p=0.2) \n",
        "        \n",
        "    def forward(self, x):\n",
        "        x = x.view(x.shape[0], -1)\n",
        "        \n",
        "        x = self.dropout(F.relu(self.fc1(x)))\n",
        "        x = self.dropout(F.relu(self.fc2(x)))\n",
        "        x = self.dropout(F.relu(self.fc3(x)))\n",
        "        \n",
        "        x = F.log_softmax(self.fc4(x))\n",
        "    \n",
        "        return x\n",
        "    \n",
        "    ##############################"
      ],
      "execution_count": null,
      "outputs": []
    },
    {
      "cell_type": "code",
      "metadata": {
        "id": "8lAocHse4jd3",
        "outputId": "e6ff7844-a232-458c-e53c-5bbff6b70bb7"
      },
      "source": [
        "model = Classifier()\n",
        "criterion = nn.NLLLoss()\n",
        "optimizer = optim.Adam(model.parameters(), lr=0.003)\n",
        "\n",
        "epochs = 30\n",
        "steps = 0\n",
        "\n",
        "train_losses, test_losses = [], []\n",
        "for e in range(epochs):\n",
        "    running_loss = 0\n",
        "    for images, labels in trainloader:\n",
        "        \n",
        "        \n",
        "        # training 답 작성 \n",
        "        optimizer.zero_grad()\n",
        "        \n",
        "        log_ps = model(images)\n",
        "        loss = criterion(log_ps, labels)\n",
        "        loss.backward()\n",
        "        optimizer.step()\n",
        "\n",
        "        #######################\n",
        "        running_loss += loss.item()\n",
        "        \n",
        "    else:\n",
        "        test_loss = 0\n",
        "        accuracy = 0\n",
        "        \n",
        "        # Gradient를 계산할 필요 없으니 비활성화 \n",
        "        with torch.no_grad():\n",
        "            model.eval()\n",
        "            for images, labels in testloader:\n",
        "                log_ps = model(images)\n",
        "                test_loss += criterion(log_ps, labels)\n",
        "                \n",
        "                # 숙제 2번과 동일한 과정이니, 여기에 복사하여 붙이면 되겠죠?\n",
        "                ps = torch.exp(log_ps) # 로그값을 변환\n",
        "                top_p, top_class = ps.topk(1, dim=1) # 제일큰 1개\n",
        "                equals = top_class == labels.view(top_class.shape) # 차원이 다르기 때문에 변환해서 ㅣ교한 값을 대입\n",
        "                accuracy += torch.mean(equals.type(torch.FloatTensor)) # 모든 epochs에 대한 최종적인 결과를 뽑기 위해 다 더해줌\n",
        "                \n",
        "                ##################\n",
        "        model.train()\n",
        "        \n",
        "        train_losses.append(running_loss/len(trainloader))\n",
        "        test_losses.append(test_loss/len(testloader))\n",
        "\n",
        "        print(\"Epoch: {}/{}.. \".format(e+1, epochs),\n",
        "              \"Training Loss: {:.3f}.. \".format(train_losses[-1]),\n",
        "              \"Test Loss: {:.3f}.. \".format(test_losses[-1]),\n",
        "              \"Test Accuracy: {:.3f}\".format(accuracy/len(testloader)))"
      ],
      "execution_count": null,
      "outputs": [
        {
          "output_type": "stream",
          "text": [
            "C:\\Users\\newxe\\Anaconda3\\lib\\site-packages\\ipykernel_launcher.py:21: UserWarning: Implicit dimension choice for log_softmax has been deprecated. Change the call to include dim=X as an argument.\n"
          ],
          "name": "stderr"
        },
        {
          "output_type": "stream",
          "text": [
            "Epoch: 1/30..  Training Loss: 0.601..  Test Loss: 0.481..  Test Accuracy: 0.825\n",
            "Epoch: 2/30..  Training Loss: 0.478..  Test Loss: 0.431..  Test Accuracy: 0.848\n",
            "Epoch: 3/30..  Training Loss: 0.449..  Test Loss: 0.420..  Test Accuracy: 0.851\n",
            "Epoch: 4/30..  Training Loss: 0.434..  Test Loss: 0.404..  Test Accuracy: 0.855\n",
            "Epoch: 5/30..  Training Loss: 0.416..  Test Loss: 0.423..  Test Accuracy: 0.854\n",
            "Epoch: 6/30..  Training Loss: 0.413..  Test Loss: 0.393..  Test Accuracy: 0.863\n",
            "Epoch: 7/30..  Training Loss: 0.401..  Test Loss: 0.413..  Test Accuracy: 0.852\n",
            "Epoch: 8/30..  Training Loss: 0.401..  Test Loss: 0.396..  Test Accuracy: 0.853\n",
            "Epoch: 9/30..  Training Loss: 0.393..  Test Loss: 0.394..  Test Accuracy: 0.861\n",
            "Epoch: 10/30..  Training Loss: 0.389..  Test Loss: 0.395..  Test Accuracy: 0.862\n",
            "Epoch: 11/30..  Training Loss: 0.388..  Test Loss: 0.406..  Test Accuracy: 0.862\n",
            "Epoch: 12/30..  Training Loss: 0.380..  Test Loss: 0.391..  Test Accuracy: 0.865\n",
            "Epoch: 13/30..  Training Loss: 0.375..  Test Loss: 0.398..  Test Accuracy: 0.860\n",
            "Epoch: 14/30..  Training Loss: 0.377..  Test Loss: 0.378..  Test Accuracy: 0.868\n",
            "Epoch: 15/30..  Training Loss: 0.369..  Test Loss: 0.398..  Test Accuracy: 0.860\n",
            "Epoch: 16/30..  Training Loss: 0.372..  Test Loss: 0.385..  Test Accuracy: 0.866\n",
            "Epoch: 17/30..  Training Loss: 0.365..  Test Loss: 0.379..  Test Accuracy: 0.870\n",
            "Epoch: 18/30..  Training Loss: 0.357..  Test Loss: 0.389..  Test Accuracy: 0.870\n",
            "Epoch: 19/30..  Training Loss: 0.357..  Test Loss: 0.381..  Test Accuracy: 0.870\n",
            "Epoch: 20/30..  Training Loss: 0.366..  Test Loss: 0.392..  Test Accuracy: 0.865\n",
            "Epoch: 21/30..  Training Loss: 0.360..  Test Loss: 0.382..  Test Accuracy: 0.869\n",
            "Epoch: 22/30..  Training Loss: 0.357..  Test Loss: 0.374..  Test Accuracy: 0.870\n",
            "Epoch: 23/30..  Training Loss: 0.351..  Test Loss: 0.380..  Test Accuracy: 0.871\n",
            "Epoch: 24/30..  Training Loss: 0.352..  Test Loss: 0.385..  Test Accuracy: 0.868\n",
            "Epoch: 25/30..  Training Loss: 0.348..  Test Loss: 0.393..  Test Accuracy: 0.867\n",
            "Epoch: 26/30..  Training Loss: 0.355..  Test Loss: 0.375..  Test Accuracy: 0.873\n",
            "Epoch: 27/30..  Training Loss: 0.349..  Test Loss: 0.363..  Test Accuracy: 0.876\n",
            "Epoch: 28/30..  Training Loss: 0.347..  Test Loss: 0.392..  Test Accuracy: 0.864\n",
            "Epoch: 29/30..  Training Loss: 0.342..  Test Loss: 0.401..  Test Accuracy: 0.864\n",
            "Epoch: 30/30..  Training Loss: 0.342..  Test Loss: 0.402..  Test Accuracy: 0.867\n"
          ],
          "name": "stdout"
        }
      ]
    },
    {
      "cell_type": "code",
      "metadata": {
        "id": "cJPHx2gg4jd6"
      },
      "source": [
        "%matplotlib inline\n",
        "%config InlineBackend.figure_format = 'retina'\n",
        "\n",
        "import matplotlib.pyplot as plt"
      ],
      "execution_count": null,
      "outputs": []
    },
    {
      "cell_type": "code",
      "metadata": {
        "id": "-86QMffT4jd9",
        "outputId": "0f427d8a-4485-484c-c62d-5634e091b21f"
      },
      "source": [
        "plt.plot(train_losses, label='Training loss')\n",
        "plt.plot(test_losses, label='Validation loss')\n",
        "plt.legend(frameon=False)"
      ],
      "execution_count": null,
      "outputs": [
        {
          "output_type": "execute_result",
          "data": {
            "text/plain": [
              "<matplotlib.legend.Legend at 0x213d52e9748>"
            ]
          },
          "metadata": {
            "tags": []
          },
          "execution_count": 19
        },
        {
          "output_type": "display_data",
          "data": {
            "image/png": "[encoded data removed]",
            "text/plain": [
              "<Figure size 432x288 with 1 Axes>"
            ]
          },
          "metadata": {
            "tags": [],
            "image/png": {
              "height": 248,
              "width": 380
            },
            "needs_background": "light"
          }
        }
      ]
    },
    {
      "cell_type": "markdown",
      "metadata": {
        "id": "GM05dlFs4jeA"
      },
      "source": [
        "## Inference\n",
        "\n",
        "* 이제 실제 적용하는 예입니다 (inference)\n",
        "* 내가 분류작업을 한다고 생각학고 traning이 끝난 네트워크에 적용합니다\n",
        "* 당연히 model.eval()과 gradient는 비활성화합니다"
      ]
    },
    {
      "cell_type": "code",
      "metadata": {
        "id": "k6c9WfPP4jeB",
        "outputId": "1b3e99c2-7d9f-41b4-8f12-21cc1a11e058"
      },
      "source": [
        "# Import helper module (should be in the repo)\n",
        "import helper\n",
        "\n",
        "# Test out your network!\n",
        "\n",
        "model.eval()\n",
        "\n",
        "dataiter = iter(testloader)\n",
        "images, labels = dataiter.next()\n",
        "img = images[0]\n",
        "# Convert 2D image to 1D vector\n",
        "img = img.view(1, 784)\n",
        "\n",
        "# Calculate the class probabilities (softmax) for img\n",
        "with torch.no_grad():\n",
        "    output = model.forward(img)\n",
        "\n",
        "ps = torch.exp(output)\n",
        "\n",
        "# Plot the image and probabilities\n",
        "helper.view_classify(img.view(1, 28, 28), ps, version='Fashion')"
      ],
      "execution_count": null,
      "outputs": [
        {
          "output_type": "display_data",
          "data": {
            "image/png": "[encoded data removed]",
            "text/plain": [
              "<Figure size 432x648 with 2 Axes>"
            ]
          },
          "metadata": {
            "tags": [],
            "image/png": {
              "height": 216,
              "width": 424
            },
            "needs_background": "light"
          }
        }
      ]
    }
  ]
}